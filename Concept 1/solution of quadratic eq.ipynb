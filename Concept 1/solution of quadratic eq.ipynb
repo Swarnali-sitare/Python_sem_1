{
 "cells": [
  {
   "cell_type": "markdown",
   "metadata": {},
   "source": [
    "8. Given a quadratic equation with coefficient a, b and c, find the two solutions (may be real or complex). You should not take the square root \n",
    "   of a negative number in your code."
   ]
  },
  {
   "cell_type": "code",
   "execution_count": 4,
   "metadata": {},
   "outputs": [
    {
     "name": "stdout",
     "output_type": "stream",
     "text": [
      "The quadratic equation is: 3 x^2 + 5 x + 12\n",
      "The solutions are imaginary: -0.8333333333333334 + 1.818118685772619 j and -0.8333333333333334 - 1.818118685772619 j\n"
     ]
    }
   ],
   "source": [
    "# A quadratic equation is represented as a(x)^2+bx+c, where a, b, c are the real coefficients\n",
    "\n",
    "a=int(input(\"enter the coeff. of x^2\")) \n",
    "b=int(input(\"enter the coeff. of x^1\"))\n",
    "c=int(input(\"enter the coeff. of x^0\"))\n",
    "\n",
    "print(\"The quadratic equation is:\",a,\"x^2 +\",b,\"x +\",c)\n",
    "\n",
    "# Calculating the discriminant of the quadratic equation\n",
    "dis=(b**2-4*a*c) \n",
    "\n",
    "# If discriminant is greater than 0, the quadratic equation has 2 real and distinct solutions.\n",
    "if dis>0: \n",
    "    sol1=((-1*b)+(dis)**0.5)/(2*a)\n",
    "    sol2=((-1*b)-(dis)**0.5)/(2*a)\n",
    "    print(\"The solutions are real and distinct:\",sol1,\"and\",sol2)\n",
    "\n",
    "# If discriminant is 0, the quadratic equation has 2 real and equal solutions.\n",
    "elif dis==0: \n",
    "    sol=(-1*b)/(2*a)\n",
    "    print(\"The solutions of the quadratic equation are real and equal:,\",sol)\n",
    "\n",
    "# If discriminant is less than 0, the quadratic equation has imaginary solutions.\n",
    "else: \n",
    "    re=(-1*b)/(2*a)  # The real part of the solution\n",
    "    img=((-1*dis)**0.5)/(2*a)  # The imaginary part of the solution\n",
    "    print(\"The solutions are imaginary:\",re,\"+\",img,\"j\",\"and\",re,\"-\",img,\"j\")"
   ]
  }
 ],
 "metadata": {
  "kernelspec": {
   "display_name": "Python 3",
   "language": "python",
   "name": "python3"
  },
  "language_info": {
   "codemirror_mode": {
    "name": "ipython",
    "version": 3
   },
   "file_extension": ".py",
   "mimetype": "text/x-python",
   "name": "python",
   "nbconvert_exporter": "python",
   "pygments_lexer": "ipython3",
   "version": "3.11.4"
  },
  "orig_nbformat": 4
 },
 "nbformat": 4,
 "nbformat_minor": 2
}
