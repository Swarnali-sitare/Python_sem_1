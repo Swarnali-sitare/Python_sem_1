{
 "cells": [
  {
   "cell_type": "markdown",
   "metadata": {},
   "source": [
    "5. Given two numbers, a and b, find the value of a/b (b may be zero)."
   ]
  },
  {
   "cell_type": "code",
   "execution_count": 1,
   "metadata": {},
   "outputs": [
    {
     "name": "stdout",
     "output_type": "stream",
     "text": [
      "5.0 / 8.0 is: 0.625\n"
     ]
    }
   ],
   "source": [
    "a=float(input(\"Enter a number\")) # numerator\n",
    "b=float(input(\"Enter a number\")) # denominator\n",
    "\n",
    "# denominator cannot be 0\n",
    "if b!=0: \n",
    "    print(a,\"/\",b,\"is:\",a/b)\n",
    "\n",
    "# 0 as denominator is not defined\n",
    "else: \n",
    "    print(\"It is not defined\")"
   ]
  }
 ],
 "metadata": {
  "kernelspec": {
   "display_name": "Python 3",
   "language": "python",
   "name": "python3"
  },
  "language_info": {
   "codemirror_mode": {
    "name": "ipython",
    "version": 3
   },
   "file_extension": ".py",
   "mimetype": "text/x-python",
   "name": "python",
   "nbconvert_exporter": "python",
   "pygments_lexer": "ipython3",
   "version": "3.12.0"
  },
  "orig_nbformat": 4
 },
 "nbformat": 4,
 "nbformat_minor": 2
}
