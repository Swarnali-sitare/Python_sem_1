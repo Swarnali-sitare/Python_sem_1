{
 "cells": [
  {
   "cell_type": "markdown",
   "metadata": {},
   "source": [
    "1. Given an integer, check if it is even or odd."
   ]
  },
  {
   "cell_type": "code",
   "execution_count": 4,
   "metadata": {},
   "outputs": [
    {
     "name": "stdout",
     "output_type": "stream",
     "text": [
      "0 is neither odd nor even\n"
     ]
    }
   ],
   "source": [
    "num=int(input(\"Enter an integer\"))\n",
    "\n",
    "if num>0: # Positive integer\n",
    "    # An even integer is always divisible by 2\n",
    "    if num%2==0:   \n",
    "        print(num,\"is an even integer\")\n",
    "    \n",
    "    else:\n",
    "        print(num,\"is an odd integer\")\n",
    "\n",
    "elif num==0: # number is zero\n",
    "    print(num,\"is neither odd nor even\")\n",
    "\n",
    "else: # Non-positive integer\n",
    "    print(num,\"is a negative integer\")"
   ]
  }
 ],
 "metadata": {
  "kernelspec": {
   "display_name": "Python 3",
   "language": "python",
   "name": "python3"
  },
  "language_info": {
   "codemirror_mode": {
    "name": "ipython",
    "version": 3
   },
   "file_extension": ".py",
   "mimetype": "text/x-python",
   "name": "python",
   "nbconvert_exporter": "python",
   "pygments_lexer": "ipython3",
   "version": "3.11.4"
  },
  "orig_nbformat": 4
 },
 "nbformat": 4,
 "nbformat_minor": 2
}
