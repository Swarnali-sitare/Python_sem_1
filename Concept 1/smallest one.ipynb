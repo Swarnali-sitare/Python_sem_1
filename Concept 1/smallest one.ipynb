{
 "cells": [
  {
   "cell_type": "markdown",
   "metadata": {},
   "source": [
    "10. Given three integers, find the smallest one."
   ]
  },
  {
   "cell_type": "code",
   "execution_count": 2,
   "metadata": {},
   "outputs": [
    {
     "name": "stdout",
     "output_type": "stream",
     "text": [
      "The numbers are: 5 , 6 , 0\n",
      "0 is smallest\n"
     ]
    }
   ],
   "source": [
    "num1=int(input(\"Enter an integer\"))\n",
    "num2=int(input(\"Enter an integer\"))\n",
    "num3=int(input(\"Enter an integer\"))\n",
    "\n",
    "print(\"The numbers are:\",num1,\",\",num2,\",\",num3)\n",
    "\n",
    "# Whether 1st is greater than other two?\n",
    "if num1<num2 and num1<num3:\n",
    "    print(num1,\"is the smallest\")\n",
    "\n",
    "# If 2nd is greater than 1st, whether it is greater than 3rd?\n",
    "elif num2<num3:\n",
    "    print(num2,\"is smallest\")\n",
    "\n",
    "# 3rd is the greatest\n",
    "else:\n",
    "    print(num3,\"is smallest\")"
   ]
  }
 ],
 "metadata": {
  "kernelspec": {
   "display_name": "Python 3",
   "language": "python",
   "name": "python3"
  },
  "language_info": {
   "codemirror_mode": {
    "name": "ipython",
    "version": 3
   },
   "file_extension": ".py",
   "mimetype": "text/x-python",
   "name": "python",
   "nbconvert_exporter": "python",
   "pygments_lexer": "ipython3",
   "version": "3.11.4"
  },
  "orig_nbformat": 4
 },
 "nbformat": 4,
 "nbformat_minor": 2
}
