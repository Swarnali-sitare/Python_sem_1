{
 "cells": [
  {
   "cell_type": "markdown",
   "metadata": {},
   "source": [
    "4. Given a year, check if it is a leap year or not. A leap year is divisible by 4, except for years that are divisible by 100. However, years that are divisible by 400 are also leap years."
   ]
  },
  {
   "cell_type": "code",
   "execution_count": 3,
   "metadata": {},
   "outputs": [
    {
     "name": "stdout",
     "output_type": "stream",
     "text": [
      "1800 not a leap year\n"
     ]
    }
   ],
   "source": [
    "year=int(input(\"Enter a year\"))\n",
    "# Conditions for a leap year:\n",
    "# Divisible by 4 and not by 100 or \n",
    "# Divisible by 400\n",
    "\n",
    "if year%4==0 and year%100!=0: \n",
    "    print(year,\"is a leap year\")\n",
    "\n",
    "elif year%400==0:\n",
    "    print(year,\"is a leap year\")\n",
    "\n",
    "else:\n",
    "    print(year,\"not a leap year\")"
   ]
  }
 ],
 "metadata": {
  "kernelspec": {
   "display_name": "Python 3",
   "language": "python",
   "name": "python3"
  },
  "language_info": {
   "codemirror_mode": {
    "name": "ipython",
    "version": 3
   },
   "file_extension": ".py",
   "mimetype": "text/x-python",
   "name": "python",
   "nbconvert_exporter": "python",
   "pygments_lexer": "ipython3",
   "version": "3.11.4"
  },
  "orig_nbformat": 4
 },
 "nbformat": 4,
 "nbformat_minor": 2
}
