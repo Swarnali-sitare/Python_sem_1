{
 "cells": [
  {
   "cell_type": "markdown",
   "metadata": {},
   "source": [
    "9. Given three points, find out whether they lie on the same straight line or not."
   ]
  },
  {
   "cell_type": "code",
   "execution_count": 1,
   "metadata": {},
   "outputs": [
    {
     "name": "stdout",
     "output_type": "stream",
     "text": [
      "The first point is: ( 4.0 , -2.0 )\n",
      "The second point is: ( 0.0 , 3.0 )\n",
      "The third point is: ( -4.0 , -5.0 )\n",
      "The three points are not collinear, i.e. donot lie on the same straight line\n"
     ]
    }
   ],
   "source": [
    "x1=float(input(\"enter X-coordinate of the first point\"))\n",
    "y1=float(input(\"enter Y-coordinate of the first point\"))\n",
    "print(\"The first point is:\",\"(\",x1,\",\",y1,\")\")\n",
    "\n",
    "x2=float(input(\"enter X-coordinate of the second point\"))\n",
    "y2=float(input(\"enter Y-coordinate of the second point\"))\n",
    "print(\"The second point is:\",\"(\",x2,\",\",y2,\")\")\n",
    "\n",
    "x3=float(input(\"enter X-coordinate of the third point\"))\n",
    "y3=float(input(\"enter Y-coordinate of the third point\"))\n",
    "print(\"The third point is:\",\"(\",x3,\",\",y3,\")\")\n",
    "\n",
    "Y=(y2-y1)\n",
    "X=(x2-x1) \n",
    "\n",
    "if X!=0: # If slope of 1st and 2nd points is not infinite\n",
    "    \n",
    "    m=Y/X # Calculating slope of the line using two of the points\n",
    "\n",
    "    if (x3-x1)!=0: # If slope of 1st and 3rd points is not infinite\n",
    "        \n",
    "        if ((y3-y1)/(x3-x1))==m: \n",
    "            # Checking whether the slope calculated using the third point with another point \n",
    "            # is equal to the slope calculated using rest of the two points \n",
    "            print(\"The three points are collinear, i.e. lie on the same straight line\")\n",
    "        \n",
    "        else:\n",
    "            print(\"The three points are not collinear, i.e. donot lie on the same straight line\")\n",
    "    \n",
    "    else: \n",
    "        print(\"The three points are collinear, i.e. lie on the same line\")\n",
    "\n",
    "else: # If slope of 1st and 2nd points is infinite\n",
    "    \n",
    "    if x3==x1: # If slope of 1st and 3rd points is infinite\n",
    "        print(\"The three points are collinear, i.e. lie on the same straight line\")\n",
    "    \n",
    "    else:\n",
    "        print(\"The three points are not collinear, i.e. donot lie on the same straight line\")"
   ]
  }
 ],
 "metadata": {
  "kernelspec": {
   "display_name": "Python 3",
   "language": "python",
   "name": "python3"
  },
  "language_info": {
   "codemirror_mode": {
    "name": "ipython",
    "version": 3
   },
   "file_extension": ".py",
   "mimetype": "text/x-python",
   "name": "python",
   "nbconvert_exporter": "python",
   "pygments_lexer": "ipython3",
   "version": "3.11.4"
  },
  "orig_nbformat": 4
 },
 "nbformat": 4,
 "nbformat_minor": 2
}
