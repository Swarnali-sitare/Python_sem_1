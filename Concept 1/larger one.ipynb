{
 "cells": [
  {
   "cell_type": "markdown",
   "metadata": {},
   "source": [
    "2. Given two integers, find the largest one."
   ]
  },
  {
   "cell_type": "code",
   "execution_count": 1,
   "metadata": {},
   "outputs": [
    {
     "name": "stdout",
     "output_type": "stream",
     "text": [
      "5.0 is greater than -7.0\n"
     ]
    }
   ],
   "source": [
    "num1=float(input(\"Enter a number\"))\n",
    "num2=float(input(\"Enter a number\"))\n",
    "\n",
    "if num1>num2: # 1st one greater\n",
    "    print(num1,\"is greater than\",num2)\n",
    "\n",
    "elif num2>num1: # 2nd one greater\n",
    "    print(num2,\"is greater than\",num1)\n",
    "\n",
    "else: # Both are equal\n",
    "    print(num1,\"is equal to\",num2)"
   ]
  }
 ],
 "metadata": {
  "kernelspec": {
   "display_name": "Python 3",
   "language": "python",
   "name": "python3"
  },
  "language_info": {
   "codemirror_mode": {
    "name": "ipython",
    "version": 3
   },
   "file_extension": ".py",
   "mimetype": "text/x-python",
   "name": "python",
   "nbconvert_exporter": "python",
   "pygments_lexer": "ipython3",
   "version": "3.11.4"
  },
  "orig_nbformat": 4
 },
 "nbformat": 4,
 "nbformat_minor": 2
}
