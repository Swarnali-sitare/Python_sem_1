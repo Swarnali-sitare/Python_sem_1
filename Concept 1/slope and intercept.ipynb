{
 "cells": [
  {
   "cell_type": "markdown",
   "metadata": {},
   "source": [
    "7. Given two points (x1,y1) and (x2,y2), find the slope and intercept of the line joining these two points (the line may be perfectly horizontal\n",
    "   or vertical)."
   ]
  },
  {
   "cell_type": "code",
   "execution_count": 1,
   "metadata": {},
   "outputs": [
    {
     "name": "stdout",
     "output_type": "stream",
     "text": [
      "The first point is: ( 5.0 , -8.0 )\n",
      "The second point is: ( 1.0 , 0.0 )\n",
      "Your slope is: -2.0\n",
      "The y-intercept of the line is 2.0\n"
     ]
    }
   ],
   "source": [
    "# In a 2D space we have x-coordinate and y-coordinate to represent a point\n",
    "\n",
    "a1=float(input(\"enter X-coordinate of the first point\"))\n",
    "b1=float(input(\"enter Y-coordinate of the first point\"))\n",
    "print(\"The first point is:\",\"(\",a1,\",\",b1,\")\")\n",
    "\n",
    "a2=float(input(\"enter X-coordinate of the second point\"))\n",
    "b2=float(input(\"enter Y-coordinate of the second point\"))\n",
    "print(\"The second point is:\",\"(\",a2,\",\",b2,\")\")\n",
    "\n",
    "A=(a2-a1)\n",
    "B=(b2-b1) \n",
    "\n",
    "# if slope is finite\n",
    "if A!=0: \n",
    "    M=B/A  # Calculating the slope of the line\n",
    "    print(\"Your slope is:\",M)\n",
    "    \n",
    "    c=b1-(M*a1)  # Calculating the y-intercept of the line\n",
    "    print(\"The y-intercept of the line is\",c)\n",
    "\n",
    "# if slope is infinite\n",
    "else: \n",
    "    print(\"slope is infinite\")\n",
    "    print(\"y-intercept is not defined\")"
   ]
  }
 ],
 "metadata": {
  "kernelspec": {
   "display_name": "Python 3",
   "language": "python",
   "name": "python3"
  },
  "language_info": {
   "codemirror_mode": {
    "name": "ipython",
    "version": 3
   },
   "file_extension": ".py",
   "mimetype": "text/x-python",
   "name": "python",
   "nbconvert_exporter": "python",
   "pygments_lexer": "ipython3",
   "version": "3.12.0"
  },
  "orig_nbformat": 4
 },
 "nbformat": 4,
 "nbformat_minor": 2
}
