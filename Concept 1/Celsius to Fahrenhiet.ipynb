{
 "cells": [
  {
   "cell_type": "markdown",
   "metadata": {},
   "source": [
    "3. Given a temperature in Celcius, convert it to Fahrenhiet using the formula F=(C*1.8)+32. If temperature is above 90F, print \"It's hot outside!\" otherwise, print \"The temperature is pleasant\"."
   ]
  },
  {
   "cell_type": "code",
   "execution_count": 5,
   "metadata": {},
   "outputs": [
    {
     "name": "stdout",
     "output_type": "stream",
     "text": [
      "The temperature is 113.0 F\n",
      "It's hot outside!\n"
     ]
    }
   ],
   "source": [
    "temp_c=float(input(\"Enter temperature in Celcius\"))\n",
    "\n",
    "temp_f=(temp_c*1.8)+32 # Conversion of Celcius to Fahrenhiet\n",
    "\n",
    "print(\"The temperature is\",temp_f,\"F\")\n",
    "\n",
    "if temp_f>90: # Temperature more than 90 F\n",
    "    print(\"It's hot outside!\")\n",
    "\n",
    "else: # Temperature less than or equal to 90 F\n",
    "    print(\"The temperature is pleasant\")"
   ]
  }
 ],
 "metadata": {
  "kernelspec": {
   "display_name": "Python 3",
   "language": "python",
   "name": "python3"
  },
  "language_info": {
   "codemirror_mode": {
    "name": "ipython",
    "version": 3
   },
   "file_extension": ".py",
   "mimetype": "text/x-python",
   "name": "python",
   "nbconvert_exporter": "python",
   "pygments_lexer": "ipython3",
   "version": "3.11.4"
  },
  "orig_nbformat": 4
 },
 "nbformat": 4,
 "nbformat_minor": 2
}
