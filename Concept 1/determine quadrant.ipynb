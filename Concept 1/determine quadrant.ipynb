{
 "cells": [
  {
   "cell_type": "markdown",
   "metadata": {},
   "source": [
    "6. Given a point (x1,y1), find the quadrant in which this point lies."
   ]
  },
  {
   "cell_type": "code",
   "execution_count": 1,
   "metadata": {},
   "outputs": [
    {
     "name": "stdout",
     "output_type": "stream",
     "text": [
      "X-coordinate is: 5.0\n",
      "Y-coordinate is: -7.0\n",
      "Your point is in the FOURTH quadrant\n"
     ]
    }
   ],
   "source": [
    "# In a 2D space we have x-coordinate and y-coordinate to represent a point\n",
    "\n",
    "x1=float(input(\"enter the X-coordinate\"))\n",
    "print (\"X-coordinate is:\",x1)\n",
    "\n",
    "y1=float(input(\"enter Y-coordinate\"))\n",
    "print(\"Y-coordinate is:\",y1)\n",
    "\n",
    "if x1==0: # if x coordinate is 0\n",
    "    \n",
    "    if y1>0: # if y coordinate is positive\n",
    "        print(\"Your point is on the positive Y-axis\")\n",
    "    \n",
    "    elif y1<0:  # if y coordinate is negative\n",
    "        print(\"Your point is on the negative Y-axis\")\n",
    "    \n",
    "    else: # if the y coordinate is 0\n",
    "        print(\"Your point is on the Origin\")\n",
    "\n",
    "elif x1>0: # if the x coordinate is positive\n",
    "    \n",
    "    if y1==0: # if the y coordinate is 0\n",
    "        print(\"Your point is on the positive X-axis\")\n",
    "    \n",
    "    if y1>0: # if the y coordinate is positive\n",
    "        print(\"Your point is in the FIRST quadrant\")\n",
    "    \n",
    "    else: # if the y coordinate is negative\n",
    "        print(\"Your point is in the FOURTH quadrant\")\n",
    "\n",
    "else: # if the x coordinate is negative\n",
    "    \n",
    "    if y1==0: # if the y coordinate is 0\n",
    "        print(\"Your point is on the negative X-axis\")\n",
    "    \n",
    "    if y1>0: # if y coordinate is positive \n",
    "        print(\"Your point is in the SECOND quadrant\")\n",
    "    \n",
    "    else: # if the y coordinate is negative\n",
    "        print(\"Your point is in the THIRD quadrant\")"
   ]
  }
 ],
 "metadata": {
  "kernelspec": {
   "display_name": "Python 3",
   "language": "python",
   "name": "python3"
  },
  "language_info": {
   "codemirror_mode": {
    "name": "ipython",
    "version": 3
   },
   "file_extension": ".py",
   "mimetype": "text/x-python",
   "name": "python",
   "nbconvert_exporter": "python",
   "pygments_lexer": "ipython3",
   "version": "3.11.4"
  },
  "orig_nbformat": 4
 },
 "nbformat": 4,
 "nbformat_minor": 2
}
