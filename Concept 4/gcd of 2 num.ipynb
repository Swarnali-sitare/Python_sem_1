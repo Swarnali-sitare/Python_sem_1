{
 "cells": [
  {
   "cell_type": "markdown",
   "metadata": {},
   "source": [
    "3. Given a number, find its Greatest Common Divisor (GCD)"
   ]
  },
  {
   "cell_type": "code",
   "execution_count": 2,
   "metadata": {},
   "outputs": [
    {
     "data": {
      "text/plain": [
       "1"
      ]
     },
     "execution_count": 2,
     "metadata": {},
     "output_type": "execute_result"
    }
   ],
   "source": [
    "def func_gcd(num1,num2):\n",
    "    \n",
    "    if num1!=0 and num2!=0:\n",
    "        if num1>num2:\n",
    "            num1,num2=num2,num1\n",
    "        # num1 is always smaller than num2 \n",
    "        # it would be easier to write the code\n",
    "        \n",
    "        gcd=1\n",
    "        for i in range(2,int(num1)+1):\n",
    "            # the numbers that are divisible by both the numbers is a common factor\n",
    "            # the largest number that is divisible by both is the gcd\n",
    "            if num1%i==0 and num2%i==0:\n",
    "                    gcd=i\n",
    "        \n",
    "        return gcd\n",
    "\n",
    "    else:\n",
    "        if num1==0 and num2!=0:\n",
    "            return num2\n",
    "\n",
    "        elif num1!=0 and num2==0:\n",
    "            return num1\n",
    "\n",
    "        else: \n",
    "            # GCD of 0 and 0 is Not Defined\n",
    "            return 'ND'\n",
    "\n",
    "\n",
    "func_gcd(112.5,15.6)"
   ]
  }
 ],
 "metadata": {
  "kernelspec": {
   "display_name": "Python 3",
   "language": "python",
   "name": "python3"
  },
  "language_info": {
   "codemirror_mode": {
    "name": "ipython",
    "version": 3
   },
   "file_extension": ".py",
   "mimetype": "text/x-python",
   "name": "python",
   "nbconvert_exporter": "python",
   "pygments_lexer": "ipython3",
   "version": "3.12.0"
  }
 },
 "nbformat": 4,
 "nbformat_minor": 2
}
