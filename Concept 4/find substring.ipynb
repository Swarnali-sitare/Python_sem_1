{
 "cells": [
  {
   "cell_type": "markdown",
   "metadata": {},
   "source": [
    "8. Given a string input, find out of it contains a particular substring."
   ]
  },
  {
   "cell_type": "code",
   "execution_count": 2,
   "metadata": {},
   "outputs": [
    {
     "name": "stdout",
     "output_type": "stream",
     "text": [
      "yes\n",
      "no\n"
     ]
    }
   ],
   "source": [
    "def findstring(str1,substr):\n",
    "    \n",
    "    if isinstance(str1,str): # Ensuring string is entered.\n",
    "        if substr in str1:\n",
    "            # substring is present in the string\n",
    "            return 'yes'\n",
    "        \n",
    "        else:\n",
    "            # substring is not present in the string\n",
    "            return 'no'\n",
    "    \n",
    "    else:\n",
    "        return 'Please enter a string input first.'\n",
    "\n",
    "\n",
    "print(findstring('This is my car.','car'))\n",
    "print(findstring('The tractor is not working','tea'))"
   ]
  }
 ],
 "metadata": {
  "kernelspec": {
   "display_name": "Python 3",
   "language": "python",
   "name": "python3"
  },
  "language_info": {
   "codemirror_mode": {
    "name": "ipython",
    "version": 3
   },
   "file_extension": ".py",
   "mimetype": "text/x-python",
   "name": "python",
   "nbconvert_exporter": "python",
   "pygments_lexer": "ipython3",
   "version": "3.12.0"
  }
 },
 "nbformat": 4,
 "nbformat_minor": 2
}
