{
 "cells": [
  {
   "cell_type": "markdown",
   "metadata": {},
   "source": [
    "4. Given a positive integer, find out all prime numbers from 1 up to this number."
   ]
  },
  {
   "cell_type": "code",
   "execution_count": 2,
   "metadata": {},
   "outputs": [
    {
     "data": {
      "text/plain": [
       "[2, 3, 5, 7, 11, 13, 17, 19, 23, 29, 31, 37, 41, 43, 47, 53, 59, 61]"
      ]
     },
     "execution_count": 2,
     "metadata": {},
     "output_type": "execute_result"
    }
   ],
   "source": [
    "def primerange(num):\n",
    "    \n",
    "    if isinstance(num,int):\n",
    "        \n",
    "        import math\n",
    "        prime=[] # list for prime numbers\n",
    "        \n",
    "        if num>0:  \n",
    "            # to get all the prime numbers\n",
    "            # in the range till num  \n",
    "            \n",
    "            for i in range(2,num+1): \n",
    "                # to check whether it is prime\n",
    "                # a prime number is divisible only by 1 and itself\n",
    "                # other than these no other number can be its divisor\n",
    "                \n",
    "                lim=int(math.sqrt(i))+1   \n",
    "                divisor=0\n",
    "                # if we check that there are no divisors in the range of 2 to sq. root of number\n",
    "                # it will have no divisors after the sq. root\n",
    "                # thus, it would be a prime number \n",
    "                \n",
    "                for j in range(2,lim):\n",
    "                    if i%j==0:\n",
    "                        divisor+=1\n",
    "                \n",
    "                if divisor==0:\n",
    "                    prime.append(i)\n",
    "            \n",
    "            return prime\n",
    "        \n",
    "        else:\n",
    "            return 'Please enter a positive integer'\n",
    "\n",
    "    else:\n",
    "        return 'Please enter a positive integer'\n",
    "\n",
    "\n",
    "primerange(61)"
   ]
  }
 ],
 "metadata": {
  "kernelspec": {
   "display_name": "Python 3",
   "language": "python",
   "name": "python3"
  },
  "language_info": {
   "codemirror_mode": {
    "name": "ipython",
    "version": 3
   },
   "file_extension": ".py",
   "mimetype": "text/x-python",
   "name": "python",
   "nbconvert_exporter": "python",
   "pygments_lexer": "ipython3",
   "version": "3.12.0"
  }
 },
 "nbformat": 4,
 "nbformat_minor": 2
}
