{
 "cells": [
  {
   "cell_type": "markdown",
   "metadata": {},
   "source": [
    "1. Given a list of positive integers, find the factorial of all the numbers."
   ]
  },
  {
   "cell_type": "code",
   "execution_count": 7,
   "metadata": {},
   "outputs": [
    {
     "data": {
      "text/plain": [
       "[1, 6, 2, 720, 362880, 120]"
      ]
     },
     "execution_count": 7,
     "metadata": {},
     "output_type": "execute_result"
    }
   ],
   "source": [
    "def fac_list(lis):\n",
    "    \n",
    "    if isinstance(lis,list): # Ensuring input is list\n",
    "        \n",
    "        list_fact=[]\n",
    "        # Calculating a factorial needs to,\n",
    "        # eg, if num=5, its factorial is 1*2*3*4*5\n",
    "        # factorial of 1 and 0 is 1\n",
    "        # factorial of negative numbers Do Not Exists \n",
    "        \n",
    "        for i in lis:\n",
    "            if i>1:\n",
    "                fact=1\n",
    "                for j in range(2,i+1):\n",
    "                    fact*=j\n",
    "                # factorial of the number is appened into the new list\n",
    "                list_fact.append(fact) \n",
    "            \n",
    "            elif i==1 or i==0:\n",
    "                list_fact.append(1)\n",
    "            \n",
    "            else:\n",
    "                list_fact.append('DNE')\n",
    "        \n",
    "        return list_fact\n",
    "    \n",
    "    else:\n",
    "        return 'Please input a list'\n",
    "\n",
    "\n",
    "fac_list([1,3,2,6,9,5])"
   ]
  }
 ],
 "metadata": {
  "kernelspec": {
   "display_name": "Python 3",
   "language": "python",
   "name": "python3"
  },
  "language_info": {
   "codemirror_mode": {
    "name": "ipython",
    "version": 3
   },
   "file_extension": ".py",
   "mimetype": "text/x-python",
   "name": "python",
   "nbconvert_exporter": "python",
   "pygments_lexer": "ipython3",
   "version": "3.12.0"
  }
 },
 "nbformat": 4,
 "nbformat_minor": 2
}
