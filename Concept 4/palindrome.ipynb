{
 "cells": [
  {
   "cell_type": "markdown",
   "metadata": {},
   "source": [
    "9. Given a string input, find out if it's a palindrome."
   ]
  },
  {
   "cell_type": "code",
   "execution_count": 4,
   "metadata": {},
   "outputs": [
    {
     "name": "stdout",
     "output_type": "stream",
     "text": [
      "This is not a palindrome\n",
      "This is a palindrome\n"
     ]
    }
   ],
   "source": [
    "def palin(str1):\n",
    "    \n",
    "    if isinstance(str1,str): # Ensuring input is string\n",
    "        \n",
    "        # converting the whole string into lowercase\n",
    "        str2=str1.lower()\n",
    "        \n",
    "        lis=str2.split() # list of words in the string\n",
    "        \n",
    "        str3=''\n",
    "        for i in lis:\n",
    "            str3+=i\n",
    "            # joining all the words to one word\n",
    "        \n",
    "        str4=''\n",
    "        for j in str3[-1::-1]:\n",
    "            str4+=j\n",
    "            # str4 is the reverse order of str3\n",
    "        \n",
    "        if str3==str4:\n",
    "            # if str3 and str4 are same, then it is a palindrome\n",
    "            # palindrome when read from beginning is same as read from end\n",
    "            return \"This is a palindrome\"\n",
    "        \n",
    "        else:\n",
    "            return \"This is not a palindrome\"\n",
    "    \n",
    "    else:\n",
    "        return 'Please enter a string as input'\n",
    "\n",
    "print(palin('My Name Is Sneha Ahens Si Eman Y'))\n",
    "print(palin('My Name Is Sneha Ahens Si Eman Ym'))"
   ]
  }
 ],
 "metadata": {
  "kernelspec": {
   "display_name": "Python 3",
   "language": "python",
   "name": "python3"
  },
  "language_info": {
   "codemirror_mode": {
    "name": "ipython",
    "version": 3
   },
   "file_extension": ".py",
   "mimetype": "text/x-python",
   "name": "python",
   "nbconvert_exporter": "python",
   "pygments_lexer": "ipython3",
   "version": "3.12.0"
  }
 },
 "nbformat": 4,
 "nbformat_minor": 2
}
