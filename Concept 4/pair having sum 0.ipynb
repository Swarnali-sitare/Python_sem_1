{
 "cells": [
  {
   "cell_type": "markdown",
   "metadata": {},
   "source": [
    "7. Given a list of integers, find all pairs of integers in the list whose sum is zero."
   ]
  },
  {
   "cell_type": "code",
   "execution_count": 2,
   "metadata": {},
   "outputs": [
    {
     "name": "stdout",
     "output_type": "stream",
     "text": [
      "[[1, -1], [5, -5], [3, -3]]\n"
     ]
    }
   ],
   "source": [
    "def sumzero(list1):\n",
    "    \n",
    "    if isinstance(list1,list): # Ensuring input is a list\n",
    "        \n",
    "        list2=[]\n",
    "        \n",
    "        for i in list1:\n",
    "            # Taking a new list and storing the positive integers in it\n",
    "            if i>0:\n",
    "                if i not in list2:\n",
    "                    list2.append(i)\n",
    "        \n",
    "        list3=[]\n",
    "        \n",
    "        for j in list2:\n",
    "            for k in list1:\n",
    "                # if the sum of elements of list2 and list1 is 0\n",
    "                # append it as list of 2 element to a required list\n",
    "                # ensure that none of the pair is repeated\n",
    "                if j+k==0:\n",
    "                    if [j,k] not in list3:\n",
    "                        list3.append([j,k])\n",
    "        return list3\n",
    "\n",
    "    else:\n",
    "        return 'Please enter a list as input'\n",
    "\n",
    "\n",
    "print(sumzero([1,2,-5,5,5,-3,3,-4,-1,-1,7]))"
   ]
  },
  {
   "cell_type": "code",
   "execution_count": null,
   "metadata": {},
   "outputs": [],
   "source": []
  }
 ],
 "metadata": {
  "kernelspec": {
   "display_name": "Python 3",
   "language": "python",
   "name": "python3"
  },
  "language_info": {
   "codemirror_mode": {
    "name": "ipython",
    "version": 3
   },
   "file_extension": ".py",
   "mimetype": "text/x-python",
   "name": "python",
   "nbconvert_exporter": "python",
   "pygments_lexer": "ipython3",
   "version": "3.12.0"
  }
 },
 "nbformat": 4,
 "nbformat_minor": 2
}
