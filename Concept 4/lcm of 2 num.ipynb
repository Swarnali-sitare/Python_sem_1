{
 "cells": [
  {
   "cell_type": "markdown",
   "metadata": {},
   "source": [
    "2. Given two numbers, find its Least Common Multiple (LCM)."
   ]
  },
  {
   "cell_type": "code",
   "execution_count": 4,
   "metadata": {},
   "outputs": [
    {
     "data": {
      "text/plain": [
       "705.625"
      ]
     },
     "execution_count": 4,
     "metadata": {},
     "output_type": "execute_result"
    }
   ],
   "source": [
    "def func_lcm(num1,num2):\n",
    "    \n",
    "    if num1>num2:\n",
    "        num1,num2=num2,num1\n",
    "    # num1 is always smaller than num2\n",
    "    # it would be easier to write the code\n",
    "    \n",
    "    gcd=1\n",
    "    # first find the gcd (greatest common divisor) of the two numbers\n",
    "    for i in range(2,int(num1)+1):\n",
    "        if num1%i==0 and num2%i==0:\n",
    "            gcd=i\n",
    "    \n",
    "    # lcm (lowest common multiple) \n",
    "    # is product of two numbers divided by gcd.\n",
    "    lcm=(num1*num2)/gcd\n",
    "    \n",
    "    return lcm\n",
    "\n",
    "\n",
    "func_lcm(12.5,56.45)"
   ]
  }
 ],
 "metadata": {
  "kernelspec": {
   "display_name": "Python 3",
   "language": "python",
   "name": "python3"
  },
  "language_info": {
   "codemirror_mode": {
    "name": "ipython",
    "version": 3
   },
   "file_extension": ".py",
   "mimetype": "text/x-python",
   "name": "python",
   "nbconvert_exporter": "python",
   "pygments_lexer": "ipython3",
   "version": "3.12.0"
  }
 },
 "nbformat": 4,
 "nbformat_minor": 2
}
