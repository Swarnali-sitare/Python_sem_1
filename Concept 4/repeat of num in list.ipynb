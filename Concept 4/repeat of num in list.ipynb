{
 "cells": [
  {
   "cell_type": "markdown",
   "metadata": {},
   "source": [
    "6. Given a list of numbers, find out how many times each number occurs in the list"
   ]
  },
  {
   "cell_type": "code",
   "execution_count": 3,
   "metadata": {},
   "outputs": [
    {
     "data": {
      "text/plain": [
       "{1: 4, 2: 5, 3: 4, 5: 3, 4: 2}"
      ]
     },
     "execution_count": 3,
     "metadata": {},
     "output_type": "execute_result"
    }
   ],
   "source": [
    "def freq(lis):\n",
    "    \n",
    "    if isinstance(lis,list): # Ensuring input is a list\n",
    "        unique=[] \n",
    "        \n",
    "        for i in lis:\n",
    "            # list of unique entries of the entered list\n",
    "            if i not in unique:\n",
    "                unique.append(i)\n",
    "            \n",
    "        dic_freq={}\n",
    "        \n",
    "        for j in unique:\n",
    "            count=0\n",
    "            for k in lis:\n",
    "                if j==k: \n",
    "                    # counting number of times \n",
    "                    # each unique entry has occured in the entered list\n",
    "                    count+=1\n",
    "            \n",
    "            dic_freq[j]=count\n",
    "            # returning a dictionary with \n",
    "            # key as each unique entry\n",
    "            # value as number of times it has occured\n",
    "        \n",
    "        return dic_freq\n",
    "    \n",
    "    else:\n",
    "        return 'Please enter a list'\n",
    "\n",
    "\n",
    "freq([1,2,3,1,5,4,1,2,3,5,5,4,3,3,1,2,2,2])"
   ]
  }
 ],
 "metadata": {
  "kernelspec": {
   "display_name": "Python 3",
   "language": "python",
   "name": "python3"
  },
  "language_info": {
   "codemirror_mode": {
    "name": "ipython",
    "version": 3
   },
   "file_extension": ".py",
   "mimetype": "text/x-python",
   "name": "python",
   "nbconvert_exporter": "python",
   "pygments_lexer": "ipython3",
   "version": "3.12.0"
  }
 },
 "nbformat": 4,
 "nbformat_minor": 2
}
