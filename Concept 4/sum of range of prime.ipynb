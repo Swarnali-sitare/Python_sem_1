{
 "cells": [
  {
   "cell_type": "markdown",
   "metadata": {},
   "source": [
    "5. Given a positive integer, find out the sum of all prime numbers from 1 up to this number."
   ]
  },
  {
   "cell_type": "code",
   "execution_count": 4,
   "metadata": {},
   "outputs": [
    {
     "data": {
      "text/plain": [
       "501"
      ]
     },
     "execution_count": 4,
     "metadata": {},
     "output_type": "execute_result"
    }
   ],
   "source": [
    "def primesum(num):\n",
    "    \n",
    "    if isinstance(num,int):\n",
    "        \n",
    "        import math\n",
    "        sumprime=0\n",
    "        \n",
    "        if num>0:  \n",
    "            # to get all the prime numbers\n",
    "            # in the range up till num  \n",
    "            \n",
    "            for i in range(2,num+1): \n",
    "                # to check whether it is prime\n",
    "                # a prime numbber is divisible only by 1 and itself\n",
    "                # other than these no other number can be its divisor\n",
    "                \n",
    "                lim=int(math.sqrt(i))+1   \n",
    "                divisor=0\n",
    "                # if we check that there are no divisors in the range of 2 to sq. root of number\n",
    "                # it will have no divisors after the sq. root\n",
    "                # thus, it would be a prime number \n",
    "                \n",
    "                for j in range(2,lim):\n",
    "                    if i%j==0:\n",
    "                        divisor+=1\n",
    "                # sum of prime numbers\n",
    "                # each prime is added one by one\n",
    "                if divisor==0:\n",
    "                    sumprime+=i\n",
    "            \n",
    "            return sumprime\n",
    "        \n",
    "        else:\n",
    "            return 'Please enter a positive integer'\n",
    "\n",
    "    else:\n",
    "        return 'Please enter a positive integer'\n",
    "\n",
    "\n",
    "primesum(61)"
   ]
  }
 ],
 "metadata": {
  "kernelspec": {
   "display_name": "Python 3",
   "language": "python",
   "name": "python3"
  },
  "language_info": {
   "codemirror_mode": {
    "name": "ipython",
    "version": 3
   },
   "file_extension": ".py",
   "mimetype": "text/x-python",
   "name": "python",
   "nbconvert_exporter": "python",
   "pygments_lexer": "ipython3",
   "version": "3.12.0"
  }
 },
 "nbformat": 4,
 "nbformat_minor": 2
}
