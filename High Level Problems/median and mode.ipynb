{
 "cells": [
  {
   "cell_type": "markdown",
   "metadata": {},
   "source": [
    "2. Given a list of numbers, find out the median and mode."
   ]
  },
  {
   "cell_type": "code",
   "execution_count": 6,
   "metadata": {},
   "outputs": [
    {
     "name": "stdout",
     "output_type": "stream",
     "text": [
      "The median is: 4\n",
      "Mode is: 5\n"
     ]
    }
   ],
   "source": [
    "list1=[5,1,5,8,3,2,1,1,5,2,6,5,8,3,4]\n",
    "sortedlist=[]\n",
    "\n",
    "# first sort the list in ascending order\n",
    "while len(list1)>0:\n",
    "    a=list1[0]\n",
    "    for i in list1:\n",
    "        if a>i:\n",
    "            a=i\n",
    "    sortedlist.append(a)\n",
    "    list1.remove(a)\n",
    "\n",
    "# if the length of list is odd,\n",
    "# the central number is the median    \n",
    "if len(sortedlist)%2!=0:\n",
    "    print('The median is:',sortedlist[(len(sortedlist)-1)//2]) \n",
    "# if length of list is even,\n",
    "# average of length//2 and (length+1)//2 is the median\n",
    "else:\n",
    "    a=sortedlist[(len(sortedlist)-1)//2]\n",
    "    b=sortedlist[len(sortedlist)//2]\n",
    "    print('The median is:',(a+b)/2)\n",
    "\n",
    "# Make a list of unique numbers\n",
    "list2=[]\n",
    "for j in sortedlist:\n",
    "    if j not in list2:\n",
    "        list2.append(j)\n",
    "\n",
    "# first count the number of times a number has appeared in the list\n",
    "# keep on comparing their frequency\n",
    "# the number having the highest frequency is the mode\n",
    "a=0\n",
    "# a is used for comparing among the frequencies\n",
    "for x in list2:\n",
    "    count=0\n",
    "    # count is used to count the frequency of each number\n",
    "    for y in sortedlist:\n",
    "        if x==y:\n",
    "            count+=1\n",
    "    if a<count:\n",
    "        a=count\n",
    "        mode=x\n",
    "print('Mode is:',mode)"
   ]
  }
 ],
 "metadata": {
  "kernelspec": {
   "display_name": "Python 3",
   "language": "python",
   "name": "python3"
  },
  "language_info": {
   "codemirror_mode": {
    "name": "ipython",
    "version": 3
   },
   "file_extension": ".py",
   "mimetype": "text/x-python",
   "name": "python",
   "nbconvert_exporter": "python",
   "pygments_lexer": "ipython3",
   "version": "3.12.0"
  }
 },
 "nbformat": 4,
 "nbformat_minor": 2
}
