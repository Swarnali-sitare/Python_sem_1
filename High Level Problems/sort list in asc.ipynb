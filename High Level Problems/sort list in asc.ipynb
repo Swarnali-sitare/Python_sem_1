{
 "cells": [
  {
   "cell_type": "markdown",
   "metadata": {},
   "source": [
    "1. Given a list of numbers, sort it in ascending order."
   ]
  },
  {
   "cell_type": "code",
   "execution_count": 14,
   "metadata": {},
   "outputs": [
    {
     "data": {
      "text/plain": [
       "[1, 2, 3, 4, 5, 7, 8, 9]"
      ]
     },
     "execution_count": 14,
     "metadata": {},
     "output_type": "execute_result"
    }
   ],
   "source": [
    "def sortasc(list1):\n",
    "    if isinstance(list1,list): # Ensure input is list\n",
    "        sortedlist=[]\n",
    "        # compare and find out the min of the list each time the loop iterates\n",
    "        # then remove that number from the initial list\n",
    "        # and append it into the sorted list\n",
    "        # the order in which it is appended will be ascending\n",
    "        while len(list1)>0:\n",
    "            a=list1[0]\n",
    "            for i in list1:\n",
    "                if a>i:\n",
    "                    a=i\n",
    "            sortedlist.append(a)\n",
    "            list1.remove(a)\n",
    "        \n",
    "        return sortedlist\n",
    "    \n",
    "    else:\n",
    "        return 'Please enter a list as input'\n",
    "\n",
    "sortasc([3,4,1,8,2,5,7,9])        "
   ]
  }
 ],
 "metadata": {
  "kernelspec": {
   "display_name": "Python 3",
   "language": "python",
   "name": "python3"
  },
  "language_info": {
   "codemirror_mode": {
    "name": "ipython",
    "version": 3
   },
   "file_extension": ".py",
   "mimetype": "text/x-python",
   "name": "python",
   "nbconvert_exporter": "python",
   "pygments_lexer": "ipython3",
   "version": "3.12.0"
  }
 },
 "nbformat": 4,
 "nbformat_minor": 2
}
