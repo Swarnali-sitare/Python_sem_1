{
 "cells": [
  {
   "cell_type": "markdown",
   "metadata": {},
   "source": [
    "10. Create a Morse Code Translator."
   ]
  },
  {
   "cell_type": "code",
   "execution_count": 3,
   "metadata": {},
   "outputs": [
    {
     "name": "stdout",
     "output_type": "stream",
     "text": [
      ".... . .-.. .-.. ---   . ...- . .-. -.-- --- -. . −·−·−−   .... --- .--   .. ...   - .... .   -.. .- -.-- ..--..   - .... .   -.. .- -.--   .. ...   ...- . .-. -.--   .--. .-.. . .- ... .- -. - .-.-.- \n",
      ".... --- .--   .. ...   - .... .   -.. .- -.-- ..--.. \n",
      "- .... .   -.. .- -.--   .. ...   ...- . .-. -.--   .--. .-.. . .- ... .- -. - .-.-.- \n"
     ]
    }
   ],
   "source": [
    "# dictionary for mapping characters to morse code\n",
    "Morse_Codes= {\n",
    "    'A': '.-',\n",
    "    'B': '-...',\n",
    "    'C': '-.-.',\n",
    "    'D': '-..',\n",
    "    'E': '.',\n",
    "    'F': '..-.',\n",
    "    'G': '--.',\n",
    "    'H': '....',\n",
    "    'I': '..',\n",
    "    'J': '.---',\n",
    "    'K': '-.-',\n",
    "    'L': '.-..',\n",
    "    'M': '--',\n",
    "    'N': '-.',\n",
    "    'O': '---',\n",
    "    'P': '.--.',\n",
    "    'Q': '--.-',\n",
    "    'R': '.-.',\n",
    "    'S': '...',\n",
    "    'T': '-',\n",
    "    'U': '..-',\n",
    "    'V': '...-',\n",
    "    'W': '.--',\n",
    "    'X': '-..-',\n",
    "    'Y': '-.--',\n",
    "    'Z': '--..',\n",
    "    '1': '.----',\n",
    "    '2': '..---',\n",
    "    '3': '...--',\n",
    "    '4': '....-',\n",
    "    '5': '.....',\n",
    "    '6': '-....',\n",
    "    '7': '--...',\n",
    "    '8': '---..',\n",
    "    '9': '----.',\n",
    "    '0': '-----',\n",
    "    '.': '.-.-.-',\n",
    "    ',': '--..--',\n",
    "    '?': '..--..',\n",
    "    '\\'': '·−−−−·',\n",
    "    '!': '−·−·−−',\n",
    "    '/': '−··−·',\n",
    "    '(': '−·−−·',\n",
    "    ')': '−·−−·−',\n",
    "    '&': '·−···',\n",
    "    ':': '−−−···',\n",
    "    ';': '−·−·−·',\n",
    "    '=': '−···−',\n",
    "    '+': '·−·−·',\n",
    "    '-': '−····−',\n",
    "    '_': '··−−·−',\n",
    "    '\"': '·−··−·',\n",
    "    '$': '···−··−',\n",
    "    '@': '·−−·−·'\n",
    "}\n",
    "\n",
    "def morsecode(str1):\n",
    "    \n",
    "    if isinstance(str1,str): # ensuring input as string\n",
    "        code = ''\n",
    "        for i in str1:\n",
    "            # for space use space\n",
    "            # for other characters, use the morse codes from the dictionary\n",
    "            if i==' ':\n",
    "                code+='  '\n",
    "            else:\n",
    "                code += Morse_Codes[i.upper()] + ' '\n",
    "        return code\n",
    "\n",
    "    else:\n",
    "        return 'Please enter a string input'\n",
    "\n",
    "print(morsecode('Hello everyone! How is the day? The day is very pleasant.'))\n",
    "print(morsecode('How is the day?'))\n",
    "print(morsecode('The day is very pleasant.'))"
   ]
  }
 ],
 "metadata": {
  "kernelspec": {
   "display_name": "Python 3",
   "language": "python",
   "name": "python3"
  },
  "language_info": {
   "codemirror_mode": {
    "name": "ipython",
    "version": 3
   },
   "file_extension": ".py",
   "mimetype": "text/x-python",
   "name": "python",
   "nbconvert_exporter": "python",
   "pygments_lexer": "ipython3",
   "version": "3.12.0"
  }
 },
 "nbformat": 4,
 "nbformat_minor": 2
}
