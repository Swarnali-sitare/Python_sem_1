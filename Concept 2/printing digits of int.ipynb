{
 "cells": [
  {
   "cell_type": "markdown",
   "metadata": {},
   "source": [
    "9. Given a positive integer, print each of its digits separately without converting the numbers into a string."
   ]
  },
  {
   "cell_type": "code",
   "execution_count": 1,
   "metadata": {},
   "outputs": [
    {
     "name": "stdout",
     "output_type": "stream",
     "text": [
      "The entered number is: 2545876\n",
      "2\n",
      "5\n",
      "4\n",
      "5\n",
      "8\n",
      "7\n",
      "6\n"
     ]
    }
   ],
   "source": [
    "num=int(input(\"enter a positive number\"))\n",
    "\n",
    "if num>0:\n",
    "    print(\"The entered number is:\", num)\n",
    "\n",
    "    lst=[] # Creating a list to store the numbers one by one\n",
    "    while num>0: # Positive integers\n",
    "        # Remainder when the number is divided by 10 is the last digit of the number\n",
    "        rem=num%10 \n",
    "        # Extracting the rest of the number except the last digit\n",
    "        num=num//10 \n",
    "        # Append the last digit into the list\n",
    "        lst.append(rem) \n",
    "\n",
    "    lst.reverse() \n",
    "    # The list obtained has the digits in reverse order.\n",
    "    # To arrange it in order, we need to reverse it.\n",
    "\n",
    "    a=0 # using as the index of the list\n",
    "    while a<len(lst):\n",
    "        print(lst[a])\n",
    "        a=a+1\n",
    "\n",
    "else:\n",
    "    print(\"Please enter a positive integer\")"
   ]
  },
  {
   "cell_type": "code",
   "execution_count": 4,
   "metadata": {},
   "outputs": [
    {
     "name": "stdout",
     "output_type": "stream",
     "text": [
      "the entered number is: 8569536\n",
      "individual numbers are\n",
      "8 5 6 9 5 3 6 "
     ]
    }
   ],
   "source": [
    "num1=int(input(\"enter a positive number\"))\n",
    "\n",
    "if num1>0:\n",
    "    print(\"the entered number is:\",num1)\n",
    "\n",
    "    # importing math library\n",
    "    import math\n",
    "\n",
    "    lst=[]\n",
    "    # number of digits in the entered number \n",
    "    lim=int(math.log10(num1))+1\n",
    "\n",
    "    for i in range(lim):\n",
    "        # Remainder when the number is divided by 10 is the last digit of the number\n",
    "        rem=num1%10\n",
    "        # Extracting the rest of the number except the last digit\n",
    "        num1=num1//10\n",
    "        # Append the last digit into the list\n",
    "        lst.append(rem)\n",
    "\n",
    "    # reverse the list to get the correct order\n",
    "    lst.reverse()\n",
    "\n",
    "    print(\"individual numbers are\")\n",
    "    for x in lst:\n",
    "        print(x,end=\" \")\n",
    "\n",
    "else:\n",
    "    print(\"Please enter a positive number\")"
   ]
  }
 ],
 "metadata": {
  "kernelspec": {
   "display_name": "Python 3",
   "language": "python",
   "name": "python3"
  },
  "language_info": {
   "codemirror_mode": {
    "name": "ipython",
    "version": 3
   },
   "file_extension": ".py",
   "mimetype": "text/x-python",
   "name": "python",
   "nbconvert_exporter": "python",
   "pygments_lexer": "ipython3",
   "version": "3.12.0"
  }
 },
 "nbformat": 4,
 "nbformat_minor": 2
}
