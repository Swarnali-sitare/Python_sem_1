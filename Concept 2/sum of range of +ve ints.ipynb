{
 "cells": [
  {
   "cell_type": "markdown",
   "metadata": {},
   "source": [
    "2. Given a positive integer, find out the sum of all integers from 1 up to this number."
   ]
  },
  {
   "cell_type": "code",
   "execution_count": 5,
   "metadata": {},
   "outputs": [
    {
     "name": "stdout",
     "output_type": "stream",
     "text": [
      "The sum of numbers till 12 is: 78\n"
     ]
    }
   ],
   "source": [
    "num=int(input(\"Enter a positive integer\"))\n",
    "\n",
    "if num>0: # Positive numbers\n",
    "    sum_range=0\n",
    "    \n",
    "    for i in range(1,num+1): # Defining range of numbers.\n",
    "        sum_range+=i # Adding numbers one by one as the for loop iterates.\n",
    "    \n",
    "    print(\"The sum of numbers till\",num,\"is:\",sum_range)\n",
    "\n",
    "else: # Non-positive numbers\n",
    "    print(num,\"is not a positive integer\")"
   ]
  }
 ],
 "metadata": {
  "kernelspec": {
   "display_name": "Python 3",
   "language": "python",
   "name": "python3"
  },
  "language_info": {
   "codemirror_mode": {
    "name": "ipython",
    "version": 3
   },
   "file_extension": ".py",
   "mimetype": "text/x-python",
   "name": "python",
   "nbconvert_exporter": "python",
   "pygments_lexer": "ipython3",
   "version": "3.11.4"
  },
  "orig_nbformat": 4
 },
 "nbformat": 4,
 "nbformat_minor": 2
}
