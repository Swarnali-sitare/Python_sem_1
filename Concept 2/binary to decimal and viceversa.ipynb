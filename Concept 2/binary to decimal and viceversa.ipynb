{
 "cells": [
  {
   "cell_type": "markdown",
   "metadata": {},
   "source": [
    "10. Given a positive integer, convert it into binary, and vice-versa"
   ]
  },
  {
   "cell_type": "code",
   "execution_count": 13,
   "metadata": {},
   "outputs": [
    {
     "name": "stdout",
     "output_type": "stream",
     "text": [
      "The decimal of 101001 is:\n",
      "41\n"
     ]
    }
   ],
   "source": [
    "option=input(\"If you want a Binary output, enter i OR if you want a Integer output, enter b\")\n",
    "\n",
    "if option=='i': # decimal to binary\n",
    "    # To convert Decimal number to Binary\n",
    "    # keep dividing the decimal number by 2 till it reaches 1\n",
    "    # store the remainder each time\n",
    "    # reversing the list of remainder \n",
    "    # is the binary output\n",
    "\n",
    "    num=int(input(\"Enter a positive integer\")) \n",
    "    if num>0:\n",
    "        lst=[]\n",
    "        print(\"The binary of\",num,\"is:\")\n",
    "        \n",
    "        while num>0:\n",
    "            # remainder when num is divided by 2\n",
    "            rem=num%2\n",
    "            # dividing the number by 2\n",
    "            # storing the quotient in its place\n",
    "            num=num//2\n",
    "            # storing the remainder\n",
    "            lst.append(rem)\n",
    "        \n",
    "        # reversing the list of remainder\n",
    "        lst.reverse()\n",
    "        \n",
    "        for i in lst:\n",
    "            print(i,end='')\n",
    "    \n",
    "    else:\n",
    "        print(\"Please enter a positive decimal number\")\n",
    "\n",
    "elif option=='b': # binary to decimal\n",
    "    # To convert Binary number to Decimal number\n",
    "    # multiply each digit from the end with 2^0, next with 2^1,... and so on\n",
    "    # and then add all to get the decimal number.\n",
    "\n",
    "    bi_num=int(input(\"Enter a binary number\"))\n",
    "    if bi_num>0:\n",
    "        # importing math library\n",
    "        import math\n",
    "\n",
    "        # number of digits in the entered number \n",
    "        val=int(math.log10(bi_num))+1\n",
    "        result=0\n",
    "        \n",
    "        print(\"The decimal of\",bi_num,\"is:\")\n",
    "        \n",
    "        for i in range(val):\n",
    "            # digits from end will be obtained \n",
    "            # when num is divided by 10\n",
    "            rem=bi_num%10\n",
    "            # number leaving the last digit\n",
    "            bi_num=bi_num//10\n",
    "            # multiplication and addition to get the decimal number\n",
    "            result=result+(rem*(2**i))\n",
    "        \n",
    "        print(result)\n",
    "    \n",
    "    else:\n",
    "        print(\"Please enter a positive binary number\")\n",
    "\n",
    "else:\n",
    "    print(\"Please enter i or b\")"
   ]
  }
 ],
 "metadata": {
  "kernelspec": {
   "display_name": "Python 3",
   "language": "python",
   "name": "python3"
  },
  "language_info": {
   "codemirror_mode": {
    "name": "ipython",
    "version": 3
   },
   "file_extension": ".py",
   "mimetype": "text/x-python",
   "name": "python",
   "nbconvert_exporter": "python",
   "pygments_lexer": "ipython3",
   "version": "3.12.0"
  }
 },
 "nbformat": 4,
 "nbformat_minor": 2
}
