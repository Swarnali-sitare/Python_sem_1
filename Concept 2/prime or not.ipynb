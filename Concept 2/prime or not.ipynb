{
 "cells": [
  {
   "cell_type": "markdown",
   "metadata": {},
   "source": [
    "4. Given a positive integer, find out if it's prime or not."
   ]
  },
  {
   "cell_type": "code",
   "execution_count": 9,
   "metadata": {},
   "outputs": [
    {
     "name": "stdout",
     "output_type": "stream",
     "text": [
      "6581 is a prime number\n"
     ]
    }
   ],
   "source": [
    "num=int(input(\"Enter a positive integer\"))\n",
    "\n",
    "if num>1:\n",
    "    count=0\n",
    "    lim=int(num**0.5) # square root of given integer\n",
    "    \n",
    "    # if a number donot has any factor within the range of 2 to sqrt of num\n",
    "    # then it would not have factors except, 1 and itself\n",
    "    # therefore, it is a prime number.\n",
    "    \n",
    "    for i in range(2,lim+1): \n",
    "        # range defined till the square root of given integer\n",
    "        if num%i==0:\n",
    "            count+=1 # Counting number of divisors in the applied range\n",
    "    \n",
    "    if count==0: \n",
    "        # If there is no divisor in the applied range, the number would be prime\n",
    "        # As a prime number has divisors 1 and itself only.\n",
    "        print(num,\"is a prime number\")\n",
    "    \n",
    "    else:\n",
    "        print(num,\"is not a prime number\")\n",
    "\n",
    "elif num==1:\n",
    "    print(num,\"is not a prime number\")\n",
    "\n",
    "else: # Non-positive numbers\n",
    "    print(num,\"is not a positive number\")"
   ]
  },
  {
   "cell_type": "code",
   "execution_count": 8,
   "metadata": {},
   "outputs": [
    {
     "name": "stdout",
     "output_type": "stream",
     "text": [
      "865 is not a prime\n"
     ]
    }
   ],
   "source": [
    "num1=int(input(\"Enter a number\"))\n",
    "count=0\n",
    "\n",
    "if num1>0: # Positive integers\n",
    "    \n",
    "    # checking all the integers between 1 to itself, \n",
    "    # which are the divisors of the entered number.\n",
    "    for i in range(1,num1+1):\n",
    "        if num1%i==0:\n",
    "            count+=1\n",
    "    \n",
    "    # count is the number of divisors\n",
    "    # a prime must have 2 divisors, neither less nor more\n",
    "    if count==2:\n",
    "        print(num1,\"is a prime\")\n",
    "    \n",
    "    else:\n",
    "        print(num1,\"is not a prime\")\n",
    "\n",
    "else: # Non-positive integers\n",
    "    print(\"Please enter a positive integer\")"
   ]
  }
 ],
 "metadata": {
  "kernelspec": {
   "display_name": "Python 3",
   "language": "python",
   "name": "python3"
  },
  "language_info": {
   "codemirror_mode": {
    "name": "ipython",
    "version": 3
   },
   "file_extension": ".py",
   "mimetype": "text/x-python",
   "name": "python",
   "nbconvert_exporter": "python",
   "pygments_lexer": "ipython3",
   "version": "3.12.0"
  },
  "orig_nbformat": 4
 },
 "nbformat": 4,
 "nbformat_minor": 2
}
