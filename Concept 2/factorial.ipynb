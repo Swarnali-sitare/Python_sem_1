{
 "cells": [
  {
   "cell_type": "markdown",
   "metadata": {},
   "source": [
    "3. Given a positive integer, find out its factorial."
   ]
  },
  {
   "cell_type": "code",
   "execution_count": 2,
   "metadata": {},
   "outputs": [
    {
     "name": "stdout",
     "output_type": "stream",
     "text": [
      "The factorial of 5 is: 120\n"
     ]
    }
   ],
   "source": [
    "num=int(input(\"Enter a positive integer\"))\n",
    "\n",
    "if num>1:\n",
    "    fact=1\n",
    "    \n",
    "    for i in range(2,num+1): # Defining the range\n",
    "        fact=fact*i # Multiplying each number one by one as the for loop iterates\n",
    "    print(\"The factorial of\",num,\"is:\",fact)\n",
    "\n",
    "elif num==0 and num==1: # Factorial of 1 and 0 are 1\n",
    "    print(\"The factorial of\",num,\"is:\",1)\n",
    "\n",
    "else: # Negative numbers\n",
    "    print(num,\"is a negative integer\")"
   ]
  }
 ],
 "metadata": {
  "kernelspec": {
   "display_name": "Python 3",
   "language": "python",
   "name": "python3"
  },
  "language_info": {
   "codemirror_mode": {
    "name": "ipython",
    "version": 3
   },
   "file_extension": ".py",
   "mimetype": "text/x-python",
   "name": "python",
   "nbconvert_exporter": "python",
   "pygments_lexer": "ipython3",
   "version": "3.11.4"
  },
  "orig_nbformat": 4
 },
 "nbformat": 4,
 "nbformat_minor": 2
}
