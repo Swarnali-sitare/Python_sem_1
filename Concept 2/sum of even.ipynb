{
 "cells": [
  {
   "cell_type": "markdown",
   "metadata": {},
   "source": [
    "6. Given a positive integer, find out the sum of all even numbers from 2 up to this number."
   ]
  },
  {
   "cell_type": "code",
   "execution_count": 1,
   "metadata": {},
   "outputs": [
    {
     "name": "stdout",
     "output_type": "stream",
     "text": [
      "The sum of evens are: 110\n"
     ]
    }
   ],
   "source": [
    "num=int(input(\"Enter a positive integer\"))\n",
    "\n",
    "if num>0: # Positive Number\n",
    "    sum_even=0\n",
    "    \n",
    "    # Defining range to iterate the even integers.\n",
    "    for i in range(2,num+1,2): \n",
    "        sum_even+=i\n",
    "    \n",
    "    print(\"The sum of evens are:\",sum_even)\n",
    "\n",
    "else: # Non-positive integers\n",
    "    print(\"Not a positive integer\")"
   ]
  }
 ],
 "metadata": {
  "kernelspec": {
   "display_name": "Python 3",
   "language": "python",
   "name": "python3"
  },
  "language_info": {
   "codemirror_mode": {
    "name": "ipython",
    "version": 3
   },
   "file_extension": ".py",
   "mimetype": "text/x-python",
   "name": "python",
   "nbconvert_exporter": "python",
   "pygments_lexer": "ipython3",
   "version": "3.12.0"
  }
 },
 "nbformat": 4,
 "nbformat_minor": 2
}
