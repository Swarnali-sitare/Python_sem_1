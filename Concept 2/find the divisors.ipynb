{
 "cells": [
  {
   "cell_type": "markdown",
   "metadata": {},
   "source": [
    "8. Given a positive number, find all its divisors."
   ]
  },
  {
   "cell_type": "code",
   "execution_count": 1,
   "metadata": {},
   "outputs": [
    {
     "name": "stdout",
     "output_type": "stream",
     "text": [
      "The divisors of 62 are:\n",
      "1\n",
      "2\n",
      "31\n",
      "62\n"
     ]
    }
   ],
   "source": [
    "num=int(input(\"Enter a positive number\"))\n",
    "\n",
    "if num>0: # Positive integers\n",
    "    print(\"The divisors of\",num,\"are:\")\n",
    "    \n",
    "    for i in range(1,num+1): #  Defining the range of iteration\n",
    "        # if the numbers in the defined range are divisible \n",
    "        # then it is a divisor\n",
    "        if num%i==0: \n",
    "            print(i)\n",
    "\n",
    "else: # Non-positive integers\n",
    "    print(\"Not a positive integer\")"
   ]
  }
 ],
 "metadata": {
  "kernelspec": {
   "display_name": "Python 3",
   "language": "python",
   "name": "python3"
  },
  "language_info": {
   "codemirror_mode": {
    "name": "ipython",
    "version": 3
   },
   "file_extension": ".py",
   "mimetype": "text/x-python",
   "name": "python",
   "nbconvert_exporter": "python",
   "pygments_lexer": "ipython3",
   "version": "3.11.4"
  }
 },
 "nbformat": 4,
 "nbformat_minor": 2
}
