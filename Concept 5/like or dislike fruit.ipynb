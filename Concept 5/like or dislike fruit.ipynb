{
 "cells": [
  {
   "cell_type": "markdown",
   "metadata": {},
   "source": [
    "9. Create a dictionary whose keys are the names of your family members and friends, and the values are the list of fruits they like to eat. Now, if the user gives a fruit as input, the code should print the list of names who like this fruit. Write another code to print the list of people who do not like this fruit. Using this dictionary as input, write a code to make a consolidated list of all the fruit names present in the values of various keys. This list should not have any duplicate entries. Do not use the set() function."
   ]
  },
  {
   "cell_type": "code",
   "execution_count": 8,
   "metadata": {},
   "outputs": [
    {
     "name": "stdout",
     "output_type": "stream",
     "text": [
      "apple is liked by:\n",
      "Mom\n",
      "Sneha\n",
      "\n",
      "\n",
      "apple is not liked by:\n",
      "Dad\n",
      "Bro\n",
      "Tithi\n"
     ]
    }
   ],
   "source": [
    "# make the dictionary of the fruits liked\n",
    "like={'Dad': ['mango', 'papaya', 'watermelon', 'melon', 'sitafal'], \n",
    "'Mom': ['guava', 'apple', 'litchi', 'chickoo', 'grapes'], \n",
    "'Bro': ['mango', 'lime', 'litchi', 'watermelon', 'panifal'], \n",
    "'Sneha': ['apple', 'chickoo', 'lime', 'litchi', 'naspati'], \n",
    "'Tithi': ['strawberry', 'watermelon', 'lime', 'litchi', 'guava']}\n",
    "\n",
    "# ask the user to enter a fruit name\n",
    "fruit=input(\"Enter a fruit\")\n",
    "\n",
    "# check whether the fruit is present in anybody's list or not\n",
    "# if yes, then\n",
    "# the person who likes the fruit would be printed\n",
    "print(fruit,\"is liked by:\")\n",
    "for key,value in like.items():\n",
    "    if fruit in value:\n",
    "            print(key)\n",
    "\n",
    "print('\\n')\n",
    "\n",
    "# check whether the fruit is present in anybody's list or not\n",
    "# if not present,\n",
    "# the person who doesnot like the fruit would be printed\n",
    "print(fruit,\"is not liked by:\")\n",
    "for key,value in like.items():\n",
    "    if fruit not in value:\n",
    "            print(key)"
   ]
  },
  {
   "cell_type": "code",
   "execution_count": 5,
   "metadata": {},
   "outputs": [
    {
     "name": "stdout",
     "output_type": "stream",
     "text": [
      "['mango', 'papaya', 'watermelon', 'melon', 'sitafal', 'guava', 'apple', 'litchi', 'chickoo', 'grapes', 'lime', 'panifal', 'naspati', 'strawberry']\n"
     ]
    }
   ],
   "source": [
    "# make the list of all various fruits \n",
    "# from the dictinary made before\n",
    "variety=[]\n",
    "# the unique names of fruit are appended to the list\n",
    "# by checking all the names of fruit likes by each one\n",
    "for val in like.values():\n",
    "    for i in val:\n",
    "        if i not in variety:\n",
    "            variety.append(i)\n",
    "print(variety)"
   ]
  }
 ],
 "metadata": {
  "kernelspec": {
   "display_name": "Python 3",
   "language": "python",
   "name": "python3"
  },
  "language_info": {
   "codemirror_mode": {
    "name": "ipython",
    "version": 3
   },
   "file_extension": ".py",
   "mimetype": "text/x-python",
   "name": "python",
   "nbconvert_exporter": "python",
   "pygments_lexer": "ipython3",
   "version": "3.12.0"
  }
 },
 "nbformat": 4,
 "nbformat_minor": 2
}
