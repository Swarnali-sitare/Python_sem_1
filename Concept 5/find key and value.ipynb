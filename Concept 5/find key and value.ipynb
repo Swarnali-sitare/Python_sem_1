{
 "cells": [
  {
   "cell_type": "markdown",
   "metadata": {},
   "source": [
    "3. Check if a key exists in a dictionary:\n",
    "   sample_dict={'a':100,'b':200,'c':300}\n",
    "   key_needed='d'\n",
    "   Check if a value exists in a dictionary:\n",
    "   sample_dict={'a':100,'b':200,'c':300}\n",
    "   value_needed=200"
   ]
  },
  {
   "cell_type": "code",
   "execution_count": 27,
   "metadata": {},
   "outputs": [
    {
     "name": "stdout",
     "output_type": "stream",
     "text": [
      "Not Found\n",
      "Found\n"
     ]
    }
   ],
   "source": [
    "# For finding key\n",
    "def findkey(dic,str1):\n",
    "\n",
    "    if isinstance(dic,dict): # Ensuring dictionary entered\n",
    "        \n",
    "        if str1 in dic.keys():\n",
    "            return 'Found'\n",
    "            \n",
    "        else:\n",
    "            return 'Not Found'\n",
    "\n",
    "# For finding value\n",
    "def findvalue(dic,val):\n",
    "\n",
    "    if isinstance(dic,dict): # Ensuring dictionary entered\n",
    "\n",
    "        if val in dic.values():\n",
    "            return 'Found'\n",
    "            \n",
    "        else:\n",
    "            return 'Not Found'\n",
    "\n",
    "\n",
    "print(findkey({'a':100,'b':200,'c':300},'d'))\n",
    "print(findvalue({'a':100,'b':200,'c':300},200))"
   ]
  }
 ],
 "metadata": {
  "kernelspec": {
   "display_name": "Python 3",
   "language": "python",
   "name": "python3"
  },
  "language_info": {
   "codemirror_mode": {
    "name": "ipython",
    "version": 3
   },
   "file_extension": ".py",
   "mimetype": "text/x-python",
   "name": "python",
   "nbconvert_exporter": "python",
   "pygments_lexer": "ipython3",
   "version": "3.12.0"
  }
 },
 "nbformat": 4,
 "nbformat_minor": 2
}
