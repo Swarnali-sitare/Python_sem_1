{
 "cells": [
  {
   "cell_type": "markdown",
   "metadata": {},
   "source": [
    "2. Merge these two dictionaries into one using for loop\n",
    "   dict1={'Ten':10,'Twenty':20,'Thirty':30}\n",
    "   dict2={'Thirty':30,'Fourty':40,'Fifty':50}"
   ]
  },
  {
   "cell_type": "code",
   "execution_count": 4,
   "metadata": {},
   "outputs": [
    {
     "name": "stdout",
     "output_type": "stream",
     "text": [
      "{'Ten': 10, 'Twenty': 20, 'Thirty': 30, 'Fourty': 40, 'Fifty': 50}\n",
      "Please enter dictionaries only as input\n"
     ]
    }
   ],
   "source": [
    "def merge_dic(dic1,dic2):\n",
    "    \n",
    "    if isinstance(dic1,dict) and isinstance(dic2,dict): # Ensuring input as dictionaries\n",
    "        merged={}\n",
    "    \n",
    "        for key1,value1 in dic1.items():\n",
    "            merged[key1]=value1\n",
    "            # dict1 merged into the dictionary \"merged\".\n",
    "    \n",
    "        for key2,value2 in dic2.items():\n",
    "            merged[key2]=value2\n",
    "            # dict2 merged into the dictionary \"merged\".\n",
    "    \n",
    "        return merged\n",
    "\n",
    "    else:\n",
    "        return 'Please enter dictionaries only as input'\n",
    "\n",
    "\n",
    "print(merge_dic({'Ten':10,'Twenty':20,'Thirty':30},{'Thirty':30,'Fourty':40,'Fifty':50}))\n",
    "print(merge_dic([10,20,30],[30,40,50]))"
   ]
  }
 ],
 "metadata": {
  "kernelspec": {
   "display_name": "Python 3",
   "language": "python",
   "name": "python3"
  },
  "language_info": {
   "codemirror_mode": {
    "name": "ipython",
    "version": 3
   },
   "file_extension": ".py",
   "mimetype": "text/x-python",
   "name": "python",
   "nbconvert_exporter": "python",
   "pygments_lexer": "ipython3",
   "version": "3.12.0"
  }
 },
 "nbformat": 4,
 "nbformat_minor": 2
}
