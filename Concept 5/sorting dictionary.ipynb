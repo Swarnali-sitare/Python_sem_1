{
 "cells": [
  {
   "cell_type": "markdown",
   "metadata": {},
   "source": [
    "8. Create a dictionary of your marks in various subjects and then sort it by its values first in descending order, and then in or ascending order. Do not use any inbuilt sorting functions."
   ]
  },
  {
   "cell_type": "code",
   "execution_count": 3,
   "metadata": {},
   "outputs": [
    {
     "data": {
      "text/plain": [
       "{'English': 97,\n",
       " 'Chemistry': 92,\n",
       " 'Maths': 89,\n",
       " 'Computer Science': 85,\n",
       " 'Physics': 84}"
      ]
     },
     "execution_count": 3,
     "metadata": {},
     "output_type": "execute_result"
    }
   ],
   "source": [
    "# DESCENDING ORDER\n",
    "\n",
    "def descdict(dict_marks):\n",
    "    \n",
    "    if isinstance(dict_marks,dict): # Ensuring input as dictionary\n",
    "        # list of values\n",
    "        list1=list(dict_marks.values())\n",
    "        a=len(list1)\n",
    "        list2=[]\n",
    "        # find the greatest of the values\n",
    "        # remove it from its place\n",
    "        # and keep appending it to another list\n",
    "        for i in list1[:a]:\n",
    "            b=list1[0]\n",
    "            for j in list1[:a]:\n",
    "                if b<j:\n",
    "                    b=j\n",
    "            list1.remove(b)\n",
    "            list2.append(b)\n",
    "            a-=1\n",
    "            \n",
    "        # making actual key as value of new and viceversa\n",
    "        # it would help to make the required dictionary\n",
    "        dict1={}\n",
    "        for key,value in dict_marks.items():\n",
    "            dict1[value]=key\n",
    "        \n",
    "        # make the required dictionary as per the sorted list of values\n",
    "        dictdesc={}\n",
    "        for j in list2:\n",
    "            dictdesc[dict1[j]]=j\n",
    "        \n",
    "        return dictdesc\n",
    "    \n",
    "    else:\n",
    "        return 'Please enter a dictionary as input'\n",
    "\n",
    "descdict({'English':97,'Maths':89,'Physics':84,'Chemistry':92,'Computer Science':85})"
   ]
  },
  {
   "cell_type": "code",
   "execution_count": 4,
   "metadata": {},
   "outputs": [
    {
     "data": {
      "text/plain": [
       "{'Physics': 84,\n",
       " 'Computer Science': 85,\n",
       " 'Maths': 89,\n",
       " 'Chemistry': 92,\n",
       " 'English': 97}"
      ]
     },
     "execution_count": 4,
     "metadata": {},
     "output_type": "execute_result"
    }
   ],
   "source": [
    "# ASCENDING ORDER\n",
    "\n",
    "def ascdict(dict_marks):\n",
    "    \n",
    "    if isinstance(dict_marks,dict): # Ensuring input as dictionary\n",
    "        # list of values\n",
    "        list1=list(dict_marks.values())\n",
    "        a=len(list1)\n",
    "        list2=[]\n",
    "        # find the smallest of the values\n",
    "        # remove it from its place\n",
    "        # and keep appending it to another list\n",
    "        for i in list1[:a]:\n",
    "            b=list1[0]\n",
    "            for j in list1[:a]:\n",
    "                if b>j:\n",
    "                    b=j\n",
    "            list1.remove(b)\n",
    "            list2.append(b)\n",
    "            a-=1\n",
    "        \n",
    "        dict1={}\n",
    "        # making actual key as value of new and viceversa\n",
    "        # it would help to make the required dictionary\n",
    "        for key,value in dict_marks.items():\n",
    "            dict1[value]=key\n",
    "\n",
    "        # make the required dictionary as per the sorted list of values\n",
    "        dictasc={}\n",
    "        for j in list2:\n",
    "            dictasc[dict1[j]]=j\n",
    "        \n",
    "        return dictasc\n",
    "\n",
    "    else:\n",
    "        return 'Please enter a dictionary as input'\n",
    "\n",
    "ascdict({'English':97,'Maths':89,'Physics':84,'Chemistry':92,'Computer Science':85})"
   ]
  }
 ],
 "metadata": {
  "kernelspec": {
   "display_name": "Python 3",
   "language": "python",
   "name": "python3"
  },
  "language_info": {
   "codemirror_mode": {
    "name": "ipython",
    "version": 3
   },
   "file_extension": ".py",
   "mimetype": "text/x-python",
   "name": "python",
   "nbconvert_exporter": "python",
   "pygments_lexer": "ipython3",
   "version": "3.12.0"
  }
 },
 "nbformat": 4,
 "nbformat_minor": 2
}
