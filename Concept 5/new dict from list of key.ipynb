{
 "cells": [
  {
   "cell_type": "markdown",
   "metadata": {},
   "source": [
    "4. Create a new dictionary so that it only has the keys mentioned in another list\n",
    "   \n",
    "   sample_dict={\"name\":\"Kelly\",\"age\":25,\"salary\":8000,\"city\":\"New york\"}\n",
    "   \n",
    "   Keys to extract\n",
    "   \n",
    "   keys=[\"name\",\"salary\"]"
   ]
  },
  {
   "cell_type": "code",
   "execution_count": 8,
   "metadata": {},
   "outputs": [
    {
     "name": "stdout",
     "output_type": "stream",
     "text": [
      "Please enter dictionary in the 1st arg and list in the 2nd arg\n",
      "{'name': 'Kelly', 'salary': 8000}\n"
     ]
    }
   ],
   "source": [
    "def subdic(dic,lis):\n",
    "    \n",
    "    if isinstance(dic,dict) and isinstance(lis,list): # Ensuring proper datatypes of input\n",
    "        \n",
    "        newdict={}\n",
    "        # The entries of the list is the key \n",
    "        # for the new dictionary as well as the entered dictionary\n",
    "        for i in lis:\n",
    "            if i in dic.keys():\n",
    "                newdict[i]=dic[i]\n",
    "                # when i is a key, then dic[i] gives the value of the key i.\n",
    "        \n",
    "        return newdict\n",
    "\n",
    "    else:\n",
    "        return 'Please enter dictionary in the 1st arg and list in the 2nd arg'\n",
    "\n",
    "\n",
    "print(subdic([\"name\",\"salary\"],{\"name\":\"Kelly\",\"age\":25,\"salary\":8000,\"city\":\"New york\"}))\n",
    "print(subdic({\"name\":\"Kelly\",\"age\":25,\"salary\":8000,\"city\":\"New york\"},[\"name\",\"salary\"]))"
   ]
  }
 ],
 "metadata": {
  "kernelspec": {
   "display_name": "Python 3",
   "language": "python",
   "name": "python3"
  },
  "language_info": {
   "codemirror_mode": {
    "name": "ipython",
    "version": 3
   },
   "file_extension": ".py",
   "mimetype": "text/x-python",
   "name": "python",
   "nbconvert_exporter": "python",
   "pygments_lexer": "ipython3",
   "version": "3.12.0"
  }
 },
 "nbformat": 4,
 "nbformat_minor": 2
}
