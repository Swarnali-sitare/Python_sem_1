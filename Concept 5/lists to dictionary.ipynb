{
 "cells": [
  {
   "cell_type": "markdown",
   "metadata": {},
   "source": [
    "1. Convert these two lists into a dictionary. Take the keys from the first list, and values from the second one.\n",
    "   keys=['Ten','Twenty','Thirty']\n",
    "   values=[10,20,30]"
   ]
  },
  {
   "cell_type": "code",
   "execution_count": 3,
   "metadata": {},
   "outputs": [
    {
     "name": "stdout",
     "output_type": "stream",
     "text": [
      "{'Ten': 10, 'Twenty': 20, 'Thirty': 30}\n",
      "Please enter lists of equal lengths\n",
      "Please enter lists only as input\n"
     ]
    }
   ],
   "source": [
    "def dict(lis1,lis2):\n",
    "    \n",
    "    if isinstance(lis1,list) and isinstance(lis2,list): # Ensuring lists as input\n",
    "\n",
    "        dic={}\n",
    "        count1=0\n",
    "        count2=0\n",
    "        \n",
    "        for i in lis1: \n",
    "            # length of list1\n",
    "            count1+=1\n",
    "        \n",
    "        for j in lis2:\n",
    "            # length of list2\n",
    "            count2+=1\n",
    "        \n",
    "        # A dictionary is possible only if,\n",
    "        # length of both the list of key and value are equal\n",
    "        if count1==count2:\n",
    "            for k in range(count1):\n",
    "                dic[lis1[k]]=lis2[k]\n",
    "        \n",
    "            return dic\n",
    "\n",
    "        else:\n",
    "            return 'Please enter lists of equal lengths'\n",
    "\n",
    "    \n",
    "    else:\n",
    "        return 'Please enter lists only as input'\n",
    "\n",
    "\n",
    "print(dict(['Ten','Twenty','Thirty'],[10,20,30]))\n",
    "print(dict(['Ten','Twenty','Thirty'],[10,50,40,30]))\n",
    "print(dict((10,20,30),['Ten','Twenty','Thirty']))"
   ]
  }
 ],
 "metadata": {
  "kernelspec": {
   "display_name": "Python 3",
   "language": "python",
   "name": "python3"
  },
  "language_info": {
   "codemirror_mode": {
    "name": "ipython",
    "version": 3
   },
   "file_extension": ".py",
   "mimetype": "text/x-python",
   "name": "python",
   "nbconvert_exporter": "python",
   "pygments_lexer": "ipython3",
   "version": "3.12.0"
  }
 },
 "nbformat": 4,
 "nbformat_minor": 2
}
