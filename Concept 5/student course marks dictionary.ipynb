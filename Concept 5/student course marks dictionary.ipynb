{
 "cells": [
  {
   "cell_type": "markdown",
   "metadata": {},
   "source": [
    "8. Create a dictionary to store the total marks of 5 students in the class in 3 subjects (Couse1, Couse2, Course3). The keys must be the student names, and the values must be the list of marks. Create another list which has the course names in the same order as the marks are stored in the dictionary values. Now write a nested for loop to print the marks. Create another list which has the course name in the same order as the marks are stored in the dictionary values. Now, write a nested for loop to print the marks for each student exam wise.\n",
    "# \n",
    "Student1\n",
    "# \n",
    "Course1 marks: 82\n",
    "#\n",
    "Course2 marks: 84\n",
    "#\n",
    "Course3 marks: 72\n",
    "# \n",
    "Student2\n",
    "# \n",
    "Course1 marks: 87\n",
    "#\n",
    "Course2 marks: 83\n",
    "#\n",
    "Course3 marks: 78"
   ]
  },
  {
   "cell_type": "code",
   "execution_count": 1,
   "metadata": {},
   "outputs": [
    {
     "name": "stdout",
     "output_type": "stream",
     "text": [
      "Chris\n",
      "English : 89\n",
      "IT : 65\n",
      "Mathematics : 90\n",
      "\n",
      "\n",
      "Daina\n",
      "English : 88\n",
      "IT : 92\n",
      "Mathematics : 79\n",
      "\n",
      "\n",
      "Kate\n",
      "English : 30\n",
      "IT : 47\n",
      "Mathematics : 69\n",
      "\n",
      "\n",
      "Kyler\n",
      "English : 85\n",
      "IT : 76\n",
      "Mathematics : 66\n",
      "\n",
      "\n",
      "Tyson\n",
      "English : 98\n",
      "IT : 43\n",
      "Mathematics : 95\n",
      "\n",
      "\n"
     ]
    }
   ],
   "source": [
    "# dictionary of student's information\n",
    "dict_stu={\"Chris\":[89,65,90],\"Daina\":[88,92,79],\"Kate\":[30,47,69],\"Kyler\":[85,76,66],\"Tyson\":[98,43,95]}\n",
    "\n",
    "# list of 3 subjects\n",
    "sub=[\"English\",\"IT\",\"Mathematics\"]\n",
    "a=len(sub) # length of list of subjects\n",
    "\n",
    "for key,value in dict_stu.items():\n",
    "    print(key) # printing student's name\n",
    "    \n",
    "    # the corresponding index of list of subject is \n",
    "    # the marks in the individual list in the dictionary\n",
    "    for j in range(a):\n",
    "        print(sub[j],\":\",value[j]) # printing subject : marks\n",
    "    print(\"\\n\")"
   ]
  }
 ],
 "metadata": {
  "kernelspec": {
   "display_name": "Python 3",
   "language": "python",
   "name": "python3"
  },
  "language_info": {
   "codemirror_mode": {
    "name": "ipython",
    "version": 3
   },
   "file_extension": ".py",
   "mimetype": "text/x-python",
   "name": "python",
   "nbconvert_exporter": "python",
   "pygments_lexer": "ipython3",
   "version": "3.12.0"
  }
 },
 "nbformat": 4,
 "nbformat_minor": 2
}
