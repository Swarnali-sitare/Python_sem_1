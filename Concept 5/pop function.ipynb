{
 "cells": [
  {
   "cell_type": "markdown",
   "metadata": {},
   "source": [
    "5. Remove a key from a dictionary:\n",
    "   \n",
    "   dict_name.pop(key_name)\n",
    "   \n",
    "   What does this function return?\n",
    "   \n",
    "   Use pop to rename a key."
   ]
  },
  {
   "cell_type": "code",
   "execution_count": 8,
   "metadata": {},
   "outputs": [
    {
     "name": "stdout",
     "output_type": "stream",
     "text": [
      "10\n",
      "{'Chris': [90, 81], 'Kate': [69, 48], 'Tyson': [98, 78], 'Tyler': [85, 75], 'Gwen': [92, 86]}\n"
     ]
    }
   ],
   "source": [
    "# find what does pop() function returns?\n",
    "def popdict(dic,key):\n",
    "    \n",
    "    if isinstance(dic,dict):\n",
    "        if key in dic.keys():\n",
    "            return dic.pop(key)\n",
    "        else:\n",
    "            return 'Key not Found'\n",
    "\n",
    "print(popdict({'Ten': 10, 'Twenty': 20, 'Thirty': 30, 'Fourty': 40, 'Fifty': 50},'Ten'))\n",
    "\n",
    "# Renaming using pop() function\n",
    "dic1={'Chris': [90, 81], 'Daina': [92, 86], 'Kate': [69, 48], 'Kyler': [85, 75], 'Tyson': [98, 78]}\n",
    "\n",
    "# Using inbuilt pop() function\n",
    "dic1['Tyler']=dic1.pop('Kyler')\n",
    "\n",
    "# Using user-built function of same purpose\n",
    "dic1['Gwen']=popdict(dic1,'Daina')\n",
    "\n",
    "print(dic1)"
   ]
  }
 ],
 "metadata": {
  "kernelspec": {
   "display_name": "Python 3",
   "language": "python",
   "name": "python3"
  },
  "language_info": {
   "codemirror_mode": {
    "name": "ipython",
    "version": 3
   },
   "file_extension": ".py",
   "mimetype": "text/x-python",
   "name": "python",
   "nbconvert_exporter": "python",
   "pygments_lexer": "ipython3",
   "version": "3.12.0"
  }
 },
 "nbformat": 4,
 "nbformat_minor": 2
}
