{
 "cells": [
  {
   "cell_type": "markdown",
   "metadata": {},
   "source": [
    "7. Write a for loop to create another dictionary from the above where the marks are replaced by grades. Above 80 is A grade, 60–80 is B grade, 40–60 is C grade, and below 40 is F. Create another dictionary to store the max and average marks for each student. Use this dictionary to compute the final CPI/CGPA of the student. Course1 is of 4 credits, Course2 of 10 credits, and Course3 of 6 credits. Store these credits in a list. Write this dictionary as a json file, and read it back into a new dictionary."
   ]
  },
  {
   "cell_type": "code",
   "execution_count": 32,
   "metadata": {},
   "outputs": [
    {
     "name": "stdout",
     "output_type": "stream",
     "text": [
      "{'Chris': [90, 81.33333333333333], 'Daina': [95, 92.0], 'Kate': [69, 48.666666666666664], 'Kyler': [80, 75.0], 'Tyson': [95, 72.0]}\n"
     ]
    }
   ],
   "source": [
    "# for max and average marks.\n",
    "\n",
    "dict_stu={\"Chris\":[89,65,90],\"Daina\":[95,92,89],\"Kate\":[30,47,69],\"Kyler\":[70,80,75],\"Tyson\":[78,43,95]}\n",
    "\n",
    "dict_new={}\n",
    "# number of subjects\n",
    "a=len(list(dict_stu.values())[0])\n",
    "\n",
    "for key,value in dict_stu.items():\n",
    "    maxm=value[0]\n",
    "    sumnum=0\n",
    "    for i in value:\n",
    "        if i>maxm:\n",
    "            # to find the maximum marks of individual\n",
    "            maxm=i\n",
    "        # to find the sum of the marks\n",
    "        sumnum+=i\n",
    "    \n",
    "    # average=total/no. of subjects\n",
    "    dict_new[key]=[maxm,(sumnum/a)]\n",
    "\n",
    "print(dict_new)"
   ]
  },
  {
   "cell_type": "code",
   "execution_count": 33,
   "metadata": {},
   "outputs": [
    {
     "name": "stdout",
     "output_type": "stream",
     "text": [
      "{'Chris': ['A', 'B', 'A'], 'Daina': ['A', 'A', 'A'], 'Kate': ['F', 'C', 'B'], 'Kyler': ['B', 'B', 'B'], 'Tyson': ['B', 'C', 'A']}\n"
     ]
    }
   ],
   "source": [
    "# for calculating CGPA of each students\n",
    "\n",
    "import copy\n",
    "dicgrade=copy.deepcopy(dict_stu)\n",
    "# made a new dictionary \n",
    "# to store the grades of each student\n",
    "\n",
    "for i in range(a):\n",
    "    for j in dicgrade.values():\n",
    "        # defining the conditions \n",
    "        # to check the grades\n",
    "        if j[i]>80:\n",
    "            j[i]='A'\n",
    "        elif j[i]>60:\n",
    "            j[i]='B'\n",
    "        elif j[i]>40:\n",
    "            j[i]='C'\n",
    "        else:\n",
    "            j[i]='F'\n",
    "\n",
    "print(dicgrade)"
   ]
  },
  {
   "cell_type": "code",
   "execution_count": 36,
   "metadata": {},
   "outputs": [
    {
     "name": "stdout",
     "output_type": "stream",
     "text": [
      "{'Chris': 9.5, 'Daina': 10.0, 'Kate': 7.2, 'Kyler': 9.0, 'Tyson': 8.3}\n"
     ]
    }
   ],
   "source": [
    "# calculating CGPA of each student\n",
    "\n",
    "# first convert their grade into a total out of 10\n",
    "# then, multiply each course's marks with their corresponding credits\n",
    "# then, calculate the CGPA of each student.\n",
    "\n",
    "# formula used for calculating CGPA is:\n",
    "# sum of (marks*(credit of subject)) divided by (sum of all credits)\n",
    "\n",
    "dict1=copy.deepcopy(dicgrade)\n",
    "\n",
    "grade={'A':10,'B':9,'C':7,'F':5}\n",
    "# convert the grades into a total out of 10\n",
    "for value in dict1.values():\n",
    "    for i in range(a):    \n",
    "        value[i]=grade[value[i]]\n",
    "\n",
    "credit=[4,10,6]\n",
    "total=0\n",
    "# total credits\n",
    "for x in credit:\n",
    "    total+=x\n",
    "\n",
    "# multiply their marks out of 10 with the credit of each subject\n",
    "for i in range(len(credit)):\n",
    "    for j in dict1.values():\n",
    "        j[i]=j[i]*credit[i]\n",
    "\n",
    "dic_cgpa={}\n",
    "\n",
    "for key,val in dict1.items():\n",
    "    # calculate CGPA of each student\n",
    "    val=(sum(val))/total\n",
    "    dic_cgpa[key]=val\n",
    "\n",
    "print(dic_cgpa)"
   ]
  },
  {
   "cell_type": "code",
   "execution_count": 35,
   "metadata": {},
   "outputs": [
    {
     "name": "stdout",
     "output_type": "stream",
     "text": [
      "{'Chris': 9.5, 'Daina': 10.0, 'Kate': 7.2, 'Kyler': 9.0, 'Tyson': 8.3}\n"
     ]
    }
   ],
   "source": [
    "import json\n",
    "with open(\"CGPA.json\", 'w') as json_file:\n",
    "    # write the dictionary to a file\n",
    "    json.dump(dic_cgpa, json_file, indent=2)\n",
    "\n",
    "with open(\"CGPA.json\", 'r') as json_file:\n",
    "    # read the dictionary from the file\n",
    "    newdict = json.load(json_file)\n",
    "\n",
    "print(newdict)"
   ]
  }
 ],
 "metadata": {
  "kernelspec": {
   "display_name": "Python 3",
   "language": "python",
   "name": "python3"
  },
  "language_info": {
   "codemirror_mode": {
    "name": "ipython",
    "version": 3
   },
   "file_extension": ".py",
   "mimetype": "text/x-python",
   "name": "python",
   "nbconvert_exporter": "python",
   "pygments_lexer": "ipython3",
   "version": "3.12.0"
  }
 },
 "nbformat": 4,
 "nbformat_minor": 2
}
