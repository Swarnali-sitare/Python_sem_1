{
 "cells": [
  {
   "cell_type": "markdown",
   "metadata": {},
   "source": [
    "2. Given a list of numbers, find the squares of all the numbers"
   ]
  },
  {
   "cell_type": "code",
   "execution_count": 1,
   "metadata": {},
   "outputs": [
    {
     "data": {
      "text/plain": [
       "[4, 25, 9, 36]"
      ]
     },
     "execution_count": 1,
     "metadata": {},
     "output_type": "execute_result"
    }
   ],
   "source": [
    "def list_sq(lis):\n",
    "    \n",
    "    if isinstance(lis,list): # Ensuring input is list\n",
    "        list1=[]\n",
    "        \n",
    "        for i in lis:\n",
    "            # Squaring each element of the list\n",
    "            # Appending the squared element into another list\n",
    "            list1.append(i*i)\n",
    "        \n",
    "        return list1\n",
    "    \n",
    "    else:\n",
    "        return \"Please enter a list as the input\"\n",
    "\n",
    "\n",
    "list_sq([2,5,3,6])"
   ]
  },
  {
   "cell_type": "code",
   "execution_count": 10,
   "metadata": {},
   "outputs": [
    {
     "name": "stdout",
     "output_type": "stream",
     "text": [
      "2 : 4\n",
      "5 : 25\n",
      "3 : 9\n",
      "6 : 36\n"
     ]
    }
   ],
   "source": [
    "def sq_lis(lis):\n",
    "    \n",
    "    for i in lis:\n",
    "        sq=i*i # Squaring each element of the list\n",
    "        print(i,\":\",sq) \n",
    "        # print function is used instead of returning the function\n",
    "        # As we have more than one output\n",
    "        # If we had returned the function, the output would return only square of first element, or\n",
    "        # It would had only return the square of the last element\n",
    "\n",
    "sq_lis([2,5,3,6])"
   ]
  }
 ],
 "metadata": {
  "kernelspec": {
   "display_name": "Python 3",
   "language": "python",
   "name": "python3"
  },
  "language_info": {
   "codemirror_mode": {
    "name": "ipython",
    "version": 3
   },
   "file_extension": ".py",
   "mimetype": "text/x-python",
   "name": "python",
   "nbconvert_exporter": "python",
   "pygments_lexer": "ipython3",
   "version": "3.12.0"
  }
 },
 "nbformat": 4,
 "nbformat_minor": 2
}
