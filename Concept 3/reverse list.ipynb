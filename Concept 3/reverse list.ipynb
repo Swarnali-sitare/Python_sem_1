{
 "cells": [
  {
   "cell_type": "markdown",
   "metadata": {},
   "source": [
    "8. Given a list of numbers, create another list in reverse order."
   ]
  },
  {
   "cell_type": "code",
   "execution_count": 2,
   "metadata": {},
   "outputs": [
    {
     "data": {
      "text/plain": [
       "[5, 4, 3, 2, 1]"
      ]
     },
     "execution_count": 2,
     "metadata": {},
     "output_type": "execute_result"
    }
   ],
   "source": [
    "def revlist(lis):\n",
    "    \n",
    "    if isinstance(lis,list): # Ensuring input is list\n",
    "        rev=[] # reversed list\n",
    "        \n",
    "        # iterate in the list from the end\n",
    "        for i in lis[::-1]:\n",
    "            # Appending elements of initial list \n",
    "            # into new list in reverse order\n",
    "            rev.append(i)\n",
    "        \n",
    "        return rev\n",
    "\n",
    "    else:\n",
    "        return 'Please input a list'\n",
    "\n",
    "revlist([1,2,3,4,5])"
   ]
  }
 ],
 "metadata": {
  "kernelspec": {
   "display_name": "Python 3",
   "language": "python",
   "name": "python3"
  },
  "language_info": {
   "codemirror_mode": {
    "name": "ipython",
    "version": 3
   },
   "file_extension": ".py",
   "mimetype": "text/x-python",
   "name": "python",
   "nbconvert_exporter": "python",
   "pygments_lexer": "ipython3",
   "version": "3.12.0"
  }
 },
 "nbformat": 4,
 "nbformat_minor": 2
}
