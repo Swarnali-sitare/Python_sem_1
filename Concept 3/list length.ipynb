{
 "cells": [
  {
   "cell_type": "markdown",
   "metadata": {},
   "source": [
    "1. Given a list of numbers, find out its length."
   ]
  },
  {
   "cell_type": "code",
   "execution_count": 4,
   "metadata": {},
   "outputs": [
    {
     "data": {
      "text/plain": [
       "4"
      ]
     },
     "execution_count": 4,
     "metadata": {},
     "output_type": "execute_result"
    }
   ],
   "source": [
    "def len_lis(lis):\n",
    "    \n",
    "    if isinstance(lis,list): # Ensuring input is a list\n",
    "        count=0\n",
    "        \n",
    "        for i in lis:\n",
    "            # count increases each time the list gets iterated\n",
    "            # for each element of the list count increases by 1\n",
    "            count+=1 \n",
    "        \n",
    "        return count\n",
    "\n",
    "    else:\n",
    "        return \"Please enter a list as input\"\n",
    "\n",
    "\n",
    "len_lis([51,89,65,23]) "
   ]
  }
 ],
 "metadata": {
  "kernelspec": {
   "display_name": "Python 3",
   "language": "python",
   "name": "python3"
  },
  "language_info": {
   "codemirror_mode": {
    "name": "ipython",
    "version": 3
   },
   "file_extension": ".py",
   "mimetype": "text/x-python",
   "name": "python",
   "nbconvert_exporter": "python",
   "pygments_lexer": "ipython3",
   "version": "3.12.0"
  }
 },
 "nbformat": 4,
 "nbformat_minor": 2
}
