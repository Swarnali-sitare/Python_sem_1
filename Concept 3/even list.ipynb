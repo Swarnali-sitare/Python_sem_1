{
 "cells": [
  {
   "cell_type": "markdown",
   "metadata": {},
   "source": [
    "5. Given a list of numbers, find all the even numbers in it."
   ]
  },
  {
   "cell_type": "code",
   "execution_count": 26,
   "metadata": {},
   "outputs": [
    {
     "name": "stdout",
     "output_type": "stream",
     "text": [
      "[22, 64]\n"
     ]
    }
   ],
   "source": [
    "def evenlist(lis):\n",
    "    \n",
    "    if isinstance(lis,list): # Ensuring input is a list\n",
    "        list_even=[] # List for even numbers\n",
    "        \n",
    "        for i in lis: # iterating inside the list\n",
    "            if i>0:\n",
    "                # Determining the even numbers of the list\n",
    "                # even numbers are always divisible by 2\n",
    "                if i%2==0: \n",
    "                    # Appending the even numbers into list_even\n",
    "                    list_even.append(i) \n",
    "                    \n",
    "        return list_even\n",
    "    \n",
    "    else:\n",
    "        return 'Please enter a list as input'\n",
    "\n",
    "\n",
    "print(evenlist([15,22,33,64,35]))"
   ]
  }
 ],
 "metadata": {
  "kernelspec": {
   "display_name": "Python 3",
   "language": "python",
   "name": "python3"
  },
  "language_info": {
   "codemirror_mode": {
    "name": "ipython",
    "version": 3
   },
   "file_extension": ".py",
   "mimetype": "text/x-python",
   "name": "python",
   "nbconvert_exporter": "python",
   "pygments_lexer": "ipython3",
   "version": "3.12.0"
  }
 },
 "nbformat": 4,
 "nbformat_minor": 2
}
