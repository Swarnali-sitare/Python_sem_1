{
 "cells": [
  {
   "cell_type": "markdown",
   "metadata": {},
   "source": [
    "3. Given a list of numbers, find the sum of all the numbers"
   ]
  },
  {
   "cell_type": "code",
   "execution_count": 3,
   "metadata": {},
   "outputs": [
    {
     "data": {
      "text/plain": [
       "295"
      ]
     },
     "execution_count": 3,
     "metadata": {},
     "output_type": "execute_result"
    }
   ],
   "source": [
    "def lis_sum(lis):\n",
    "    \n",
    "    if isinstance(lis,list): # Ensuring input is a list\n",
    "        listsum=0\n",
    "        \n",
    "        for i in lis:\n",
    "            # Adding elements of the list one by one\n",
    "            listsum+=i\n",
    "        \n",
    "        return listsum\n",
    "    \n",
    "    else:\n",
    "        return \"Please enter list as the input\"\n",
    "\n",
    "\n",
    "lis_sum([56,84,66,34,55])"
   ]
  }
 ],
 "metadata": {
  "kernelspec": {
   "display_name": "Python 3",
   "language": "python",
   "name": "python3"
  },
  "language_info": {
   "codemirror_mode": {
    "name": "ipython",
    "version": 3
   },
   "file_extension": ".py",
   "mimetype": "text/x-python",
   "name": "python",
   "nbconvert_exporter": "python",
   "pygments_lexer": "ipython3",
   "version": "3.12.0"
  }
 },
 "nbformat": 4,
 "nbformat_minor": 2
}
