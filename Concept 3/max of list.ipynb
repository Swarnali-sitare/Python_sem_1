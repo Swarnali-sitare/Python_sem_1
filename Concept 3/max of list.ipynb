{
 "cells": [
  {
   "cell_type": "markdown",
   "metadata": {},
   "source": [
    "9. Given a list of numbers, find out the maximum number."
   ]
  },
  {
   "cell_type": "code",
   "execution_count": 2,
   "metadata": {},
   "outputs": [
    {
     "data": {
      "text/plain": [
       "54"
      ]
     },
     "execution_count": 2,
     "metadata": {},
     "output_type": "execute_result"
    }
   ],
   "source": [
    "def maxnum(lis):\n",
    "    \n",
    "    if isinstance(lis,list): # Ensuring input is list\n",
    "        \n",
    "        if len(lis)!=0:\n",
    "            maxi=lis[0]\n",
    "            \n",
    "            for i in lis:\n",
    "                if i>maxi: \n",
    "                    # Comparing with each entry get the greatest one\n",
    "                    maxi=i\n",
    "            return maxi\n",
    "        \n",
    "        else:\n",
    "            return 'list is empty'\n",
    "    \n",
    "    else:\n",
    "        return 'Please input a list'\n",
    "\n",
    "\n",
    "maxnum([15,12,3,54,25,16])"
   ]
  }
 ],
 "metadata": {
  "kernelspec": {
   "display_name": "Python 3",
   "language": "python",
   "name": "python3"
  },
  "language_info": {
   "codemirror_mode": {
    "name": "ipython",
    "version": 3
   },
   "file_extension": ".py",
   "mimetype": "text/x-python",
   "name": "python",
   "nbconvert_exporter": "python",
   "pygments_lexer": "ipython3",
   "version": "3.12.0"
  }
 },
 "nbformat": 4,
 "nbformat_minor": 2
}
