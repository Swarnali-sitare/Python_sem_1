{
 "cells": [
  {
   "cell_type": "markdown",
   "metadata": {},
   "source": [
    "6. Given a list of numbers, find all the odd numbers in it."
   ]
  },
  {
   "cell_type": "code",
   "execution_count": 5,
   "metadata": {},
   "outputs": [
    {
     "data": {
      "text/plain": [
       "[1, 3, 5]"
      ]
     },
     "execution_count": 5,
     "metadata": {},
     "output_type": "execute_result"
    }
   ],
   "source": [
    "def oddlist(lis):\n",
    "    \n",
    "    if isinstance(lis,list): # Ensuring input is list\n",
    "        list_odd=[] # List for odd numbers\n",
    "        \n",
    "        for i in lis:\n",
    "            if i>0:\n",
    "                # Determining whether it is odd or not\n",
    "                # odd numbers are not divisible by 2\n",
    "                if i%2!=0: \n",
    "                    # Odd numbers are appended into the list\n",
    "                    list_odd.append(i) \n",
    "        \n",
    "        return list_odd\n",
    "    \n",
    "    else:\n",
    "        return 'Please enter a list in input'\n",
    "\n",
    "oddlist([1,2,3,4,5])"
   ]
  }
 ],
 "metadata": {
  "kernelspec": {
   "display_name": "Python 3",
   "language": "python",
   "name": "python3"
  },
  "language_info": {
   "codemirror_mode": {
    "name": "ipython",
    "version": 3
   },
   "file_extension": ".py",
   "mimetype": "text/x-python",
   "name": "python",
   "nbconvert_exporter": "python",
   "pygments_lexer": "ipython3",
   "version": "3.12.0"
  }
 },
 "nbformat": 4,
 "nbformat_minor": 2
}
