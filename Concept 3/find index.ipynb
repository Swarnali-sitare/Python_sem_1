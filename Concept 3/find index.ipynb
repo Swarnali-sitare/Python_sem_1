{
 "cells": [
  {
   "cell_type": "markdown",
   "metadata": {},
   "source": [
    "10. Given a list of numbers, find out the index of another given number."
   ]
  },
  {
   "cell_type": "code",
   "execution_count": 5,
   "metadata": {},
   "outputs": [
    {
     "data": {
      "text/plain": [
       "1"
      ]
     },
     "execution_count": 5,
     "metadata": {},
     "output_type": "execute_result"
    }
   ],
   "source": [
    "def func_find(lis,num):\n",
    "    \n",
    "    if isinstance(lis,list): # Ensuring input is list\n",
    "        \n",
    "        # if the entered number is in the list\n",
    "        # match it with the elements of each index\n",
    "        if num in lis: \n",
    "            \n",
    "            count=0\n",
    "            # finding list length\n",
    "            for i in lis:\n",
    "                count+=1 \n",
    "            \n",
    "            for ind in range(count):\n",
    "                if num==lis[ind]: \n",
    "                    # index is termed as ind\n",
    "                    return ind\n",
    "        \n",
    "        else:\n",
    "            return 'Not Found in the entered list'\n",
    "    \n",
    "    else:\n",
    "        return 'Please input a list'\n",
    "\n",
    "\n",
    "func_find([1,2,3,4,5],2)"
   ]
  }
 ],
 "metadata": {
  "kernelspec": {
   "display_name": "Python 3",
   "language": "python",
   "name": "python3"
  },
  "language_info": {
   "codemirror_mode": {
    "name": "ipython",
    "version": 3
   },
   "file_extension": ".py",
   "mimetype": "text/x-python",
   "name": "python",
   "nbconvert_exporter": "python",
   "pygments_lexer": "ipython3",
   "version": "3.12.0"
  }
 },
 "nbformat": 4,
 "nbformat_minor": 2
}
