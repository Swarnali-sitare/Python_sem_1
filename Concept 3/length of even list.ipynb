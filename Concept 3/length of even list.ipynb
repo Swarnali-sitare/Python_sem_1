{
 "cells": [
  {
   "cell_type": "markdown",
   "metadata": {},
   "source": [
    "7. Given a list of numbers, find out how many even numbers it has."
   ]
  },
  {
   "cell_type": "code",
   "execution_count": 3,
   "metadata": {},
   "outputs": [
    {
     "name": "stdout",
     "output_type": "stream",
     "text": [
      "2\n"
     ]
    }
   ],
   "source": [
    "def evenlen(lis):\n",
    "    \n",
    "    if isinstance(lis,list): # Ensuring input is a list\n",
    "        list_even=[] # List for even numbers\n",
    "        \n",
    "        for i in lis:\n",
    "            if i>0:\n",
    "                if i%2==0: \n",
    "                    # Determining the even numbers\n",
    "                    # Appending the even numbers into list_even\n",
    "                    list_even.append(i) \n",
    "        \n",
    "        len_even=0\n",
    "        for j in list_even:\n",
    "            len_even+=1\n",
    "            # length of even number list \n",
    "        return len_even\n",
    "    \n",
    "    else:\n",
    "        return 'Please enter a list as input'\n",
    "\n",
    "\n",
    "print(evenlen([15,22,33,64,35]))"
   ]
  },
  {
   "cell_type": "code",
   "execution_count": 4,
   "metadata": {},
   "outputs": [
    {
     "name": "stdout",
     "output_type": "stream",
     "text": [
      "2\n"
     ]
    }
   ],
   "source": [
    "def evenlen(lis):\n",
    "    \n",
    "    if isinstance(lis,list): # Determining whether input is a list\n",
    "        count=0\n",
    "        \n",
    "        for i in lis:\n",
    "            if i>0:\n",
    "                if i%2==0: \n",
    "                    # Determining the even numbers\n",
    "                    # counting the even numbers\n",
    "                    # each time an even number is determined, \n",
    "                    # count is increased by 1\n",
    "                    count+=1\n",
    "                      \n",
    "        return count\n",
    "    \n",
    "    else:\n",
    "        return 'Please enter a list as input'\n",
    "\n",
    "\n",
    "print(evenlen([15,22,33,64,35]))"
   ]
  }
 ],
 "metadata": {
  "kernelspec": {
   "display_name": "Python 3",
   "language": "python",
   "name": "python3"
  },
  "language_info": {
   "codemirror_mode": {
    "name": "ipython",
    "version": 3
   },
   "file_extension": ".py",
   "mimetype": "text/x-python",
   "name": "python",
   "nbconvert_exporter": "python",
   "pygments_lexer": "ipython3",
   "version": "3.12.0"
  }
 },
 "nbformat": 4,
 "nbformat_minor": 2
}
