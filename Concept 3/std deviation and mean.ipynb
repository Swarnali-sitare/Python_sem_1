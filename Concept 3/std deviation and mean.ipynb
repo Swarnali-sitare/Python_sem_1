{
 "cells": [
  {
   "cell_type": "markdown",
   "metadata": {},
   "source": [
    "4. Given a list of numbers, find out the mean and standard deviation. "
   ]
  },
  {
   "cell_type": "code",
   "execution_count": 1,
   "metadata": {},
   "outputs": [
    {
     "data": {
      "text/plain": [
       "(0.1875, 5.833965739529158)"
      ]
     },
     "execution_count": 1,
     "metadata": {},
     "output_type": "execute_result"
    }
   ],
   "source": [
    "def stdnmean(lis):\n",
    "    \n",
    "    if isinstance(lis,list): # Ensuring input is a list\n",
    "            count=0\n",
    "            total=0\n",
    "            \n",
    "            for i in lis:\n",
    "                # finding length of list (count)\n",
    "                # sum of all elements of the list (total)\n",
    "                count+=1\n",
    "                total+=i\n",
    "            \n",
    "            if count!=0: \n",
    "                mean=count/total # Mean of the list\n",
    "                sq_sum=0\n",
    "            \n",
    "                for i in lis:\n",
    "                    # std_dev=(sum((i-mean)**1/2)/length of list)**2\n",
    "                    sq_sum+=((i-mean)**2)/count\n",
    "                std=sq_sum**0.5\n",
    "            \n",
    "                return mean,std\n",
    "            \n",
    "            else: # Empty list\n",
    "                return 'List is empty'\n",
    "    \n",
    "    else:\n",
    "        return 'Please enter a list as input'\n",
    "\n",
    "stdnmean([1,5,6,9,8,3])"
   ]
  },
  {
   "cell_type": "code",
   "execution_count": null,
   "metadata": {},
   "outputs": [],
   "source": []
  }
 ],
 "metadata": {
  "kernelspec": {
   "display_name": "Python 3",
   "language": "python",
   "name": "python3"
  },
  "language_info": {
   "codemirror_mode": {
    "name": "ipython",
    "version": 3
   },
   "file_extension": ".py",
   "mimetype": "text/x-python",
   "name": "python",
   "nbconvert_exporter": "python",
   "pygments_lexer": "ipython3",
   "version": "3.12.0"
  }
 },
 "nbformat": 4,
 "nbformat_minor": 2
}
